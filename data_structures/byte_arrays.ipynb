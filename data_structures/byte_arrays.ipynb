{
    "cells": [
     {
      "cell_type": "markdown",
      "metadata": {},
      "source": [
       "# Python Bytearrays: Data Editing Superpowers! 💪 🦸‍♀️\n",
       "\n",
       "Hey Super Coders! 👋 Get ready to unlock a brand new superpower in Python: **`bytearray`**! \n",
       "\n",
       "You already know about lists, dictionaries, sets, strings, `bytes`, and arrays, right? Awesome! You're building up an amazing toolbox of Python skills. Now, it's time to learn about something super cool and super useful: **`bytearray`**.\n",
       "\n",
       "Imagine you have a **secret code** or a **data packet** for a computer game. Sometimes you need to just *read* it, but sometimes you need to **change** it, right?  \n",
       "\n",
       "Well, `bytearray` is like a **changeable** secret code! It lets you directly edit and update binary data.  It's like having **data editing superpowers**! 💥 Let's dive in and see how it works!"
      ]
     },
     {
      "cell_type": "markdown",
      "metadata": {},
      "source": [
       "## 1. What is a Python `bytearray`? 🤔 (A Changeable Secret Code! 📝➡️✏️)\n",
       "\n",
       "You already know about `bytes`, right?  `bytes` are like secret codes for computers. They represent data in binary form (0s and 1s), which is how computers understand everything.  But `bytes` are **immutable**, which means once you create them, you can't change them. It's like writing a secret code on paper with a pen - once it's written, you can't erase or change it directly (without making a mess!).\n",
       "\n",
       "**Motivation:** But what if you *need* to change your secret code? What if you need to update a data packet in your game? That's where `bytearray` comes in! We need a way to **modify** binary data directly. \n",
       "\n",
       "**Analogy:** Think of `bytearray` as a **digital secret code**! 💻 Unlike `bytes` which are like written codes, `bytearray` is like a secret code you can edit on your computer screen. You can rewrite parts of it, add to it, or take away from it.  It's still a sequence of bytes, but now you have **editing superpowers**! 💪\n",
       "\n",
       "**Explanation:**  A Python `bytearray` is a **mutable sequence of single bytes**.  \"Mutable\" means **changeable**.  Each byte in a `bytearray` is represented by an integer from **0 to 255**.  It's very similar to `bytes`, but the HUGE difference is that `bytearray` **can be modified** after you create it. \n",
       "\n",
       "**How to create a `bytearray`:** You use the `bytearray()` constructor. You can create a `bytearray` from:\n",
       "\n",
       "*   A string (which will be encoded into bytes)\n",
       "*   A list of integers (where each integer is a byte value from 0 to 255)\n",
       "*   Existing `bytes` objects\n",
       "*   Other byte-like objects."
      ]
     },
     {
      "cell_type": "code",
      "execution_count": null,
      "metadata": {},
      "outputs": [],
      "source": [
       "# Let's create some bytearrays!\n",
       "\n",
       "# 1. From a string (we need to encode it to bytes first, like using 'utf-8')\n",
       "secret_message_bytearray = bytearray(\"Hello Secret Agents!\".encode('utf-8'))\n",
       "print(\"Bytearray from string:\", secret_message_bytearray) # Notice the 'bytearray' and 'b' prefix!\n",
       "\n",
       "# 2. From a list of integers (each integer is a byte value)\n",
       "byte_values = [72, 101, 108, 108, 111] # These are ASCII codes for 'Hello'\n",
       "byte_list_bytearray = bytearray(byte_values)\n",
       "print(\"Bytearray from list of integers:\", byte_list_bytearray) # Still looks like bytes!\n",
       "\n",
       "# 3. From existing bytes\n",
       "original_bytes = b'Immutable Bytes'\n",
       "bytes_to_bytearray = bytearray(original_bytes)\n",
       "print(\"Bytearray from bytes:\", bytes_to_bytearray)\n"
      ]
     },
     {
      "cell_type": "markdown",
      "metadata": {},
      "source": [
       "## 2. Mutability - The Power to Change Bytes! 🦸 (Rewriting Secret Code! ✏️)\n",
       "\n",
       "This is the **superpower** of `bytearray`!  It's **mutable**, meaning you can change its contents directly after it's created. `bytes` can't do this! \n",
       "\n",
       "**Motivation:**  Why is mutability so powerful? Because it lets you **edit data in place**! Imagine you need to flip a bit in a data packet, or correct a small error in a secret message. With `bytearray`, you can do it directly without creating a whole new copy of the data!\n",
       "\n",
       "**Analogy:**  Remember our digital secret code? With `bytearray`, you have the power to **rewrite parts of your secret code** directly! ✏️  You can change a letter, a number, anything! This is like having an **editable data packet** right in your hands!\n",
       "\n",
       "**Explanation:**  You can modify individual bytes in a `bytearray` using **indexing and assignment**, just like you do with lists!  You can change the byte value at a specific index. \n"
      ]
     },
     {
      "cell_type": "code",
      "execution_count": null,
      "metadata": {},
      "outputs": [],
      "source": [
       "# Let's modify our secret message bytearray!\n",
       "\n",
       "secret_message_bytearray = bytearray(b\"TOP SECRET\")\n",
       "print(\"Original bytearray:\", secret_message_bytearray)\n",
       "\n",
       "# Let's change the byte at index 4 (which is 'S') to 'X'\n",
       "# We need to use the ASCII value of 'X', which is 88 (or ord('X'))\n",
       "secret_message_bytearray[4] = ord('X') # BOOM! Data editing superpower!\n",
       "\n",
       "print(\"Modified bytearray:\", secret_message_bytearray) # 'SECRET' became 'XECRET'!\n",
       "\n",
       "# Let's change the byte at index 0 (which is 'T') to 'Z'\n",
       "secret_message_bytearray[0] = 90 # ASCII value of 'Z'\n",
       "print(\"Modified bytearray again:\", secret_message_bytearray) # 'TOP' became 'ZOP'!\n",
       "\n",
       "# We can even change a slice of bytes!\n",
       "secret_message_bytearray[1:4] = b'OOO' # Replace 'OPE' with 'OOO'\n",
       "print(\"Modified bytearray slice:\", secret_message_bytearray) # 'ZOP' became 'ZOOO'!\n"
      ]
     },
     {
      "cell_type": "markdown",
      "metadata": {},
      "source": [
       "## 3. `bytearray` Operations - All the `bytes` Operations, Plus Modification! 🛠️ (All Secret Code Actions + Editing Tools!)\n",
       "\n",
       "`bytearray` is super versatile! It can do almost everything that `bytes` can do (like concatenation, slicing, iteration, etc.), **AND** it has extra powers to modify itself!\n",
       "\n",
       "**Motivation:** You want to do all the cool things you can do with `bytes`, but also have the ability to change them. `bytearray` gives you the best of both worlds!\n",
       "\n",
       "**Analogy:**  It's like having all the **secret agent tools** you already know (like for reading and transmitting secret codes), but now you also get a **toolbox full of editing tools**! 🧰 You can not only use the secret code, but you can also take it apart and put it back together in new ways!\n",
       "\n",
       "**Explanation:**  `bytearray` supports many operations, including:\n",
       "\n",
       "*   **Concatenation:** `+` (joining bytearrays together)\n",
       "*   **Slicing:** `[:]` (getting parts of a bytearray)\n",
       "*   **Iteration:** `for byte in bytearray:` (looping through bytes)\n",
       "*   **Membership testing:** `byte in bytearray` (checking if a byte is in the bytearray)\n",
       "*   **Length:** `len(bytearray)` (getting the number of bytes)\n",
       "\n",
       "**AND** it has **mutable methods** like:\n",
       "\n",
       "*   `append(byte)`: Adds a byte to the end\n",
       "*   `extend(iterable)`: Adds bytes from an iterable (like another bytearray or bytes)\n",
       "*   `insert(index, byte)`: Inserts a byte at a specific position\n",
       "*   `remove(byte)`: Removes the first occurrence of a byte\n",
       "*   `pop(index=-1)`: Removes and returns the byte at a given index (or the last byte if no index is given)\n",
       "*   `clear()`: Removes all bytes\n",
       "*   `reverse()`: Reverses the bytearray in place\n",
       "*   `copy()`: Creates a copy of the bytearray\n",
       "*   `find(sub[, start[, end]])`: Searches for a sub-sequence of bytes\n",
       "*   `replace(old, new[, count])`: Replaces occurrences of a byte sequence with another\n",
       "*   ... and more!"
      ]
     },
     {
      "cell_type": "code",
      "execution_count": null,
      "metadata": {},
      "outputs": [],
      "source": [
       "# Let's try some bytearray operations!\n",
       "\n",
       "data_packet = bytearray(b'START')\n",
       "print(\"Initial data packet:\", data_packet)\n",
       "\n",
       "# 1. Append a byte\n",
       "data_packet.append(ord('X')) # Add 'X' to the end\n",
       "print(\"After append('X'):\", data_packet)\n",
       "\n",
       "# 2. Extend with another bytearray\n",
       "extension = bytearray(b'END')\n",
       "data_packet.extend(extension) # Add 'END' to the end\n",
       "print(\"After extend(b'END'):\", data_packet)\n",
       "\n",
       "# 3. Insert a byte at index 5\n",
       "data_packet.insert(5, ord('!')) # Insert '!' at position 5\n",
       "print(\"After insert('!' at index 5):\", data_packet)\n",
       "\n",
       "# 4. Remove the byte 'X'\n",
       "data_packet.remove(ord('X'))\n",
       "print(\"After remove('X'):\", data_packet)\n",
       "\n",
       "# 5. Pop the last byte\n",
       "popped_byte = data_packet.pop()\n",
       "print(\"Popped byte:\", popped_byte, \"  Bytearray after pop():\", data_packet) # 'D' is popped\n",
       "\n",
       "# 6. Reverse the bytearray\n",
       "data_packet.reverse()\n",
       "print(\"After reverse():\", data_packet)\n",
       "\n",
       "# 7. Clear the bytearray (make it empty)\n",
       "data_packet.clear()\n",
       "print(\"After clear():\", data_packet) # Empty bytearray!\n"
      ]
     },
     {
      "cell_type": "markdown",
      "metadata": {},
      "source": [
       "## 4. Encoding and Decoding with `bytearray` 🌐 (Translating Changeable Secret Codes! ↔️)\n",
       "\n",
       "Just like `bytes`, `bytearray` can also be used to work with text! You can **encode** strings into `bytearray` and **decode** `bytearray` back into strings.\n",
       "\n",
       "**Motivation:**  We often need to convert text into binary data and back again, especially when working with files, networks, or the internet. `bytearray` makes it easy to handle text data in a mutable binary format.\n",
       "\n",
       "**Analogy:**  Think of encoding and decoding as **translating your secret code**! 🌐 You can translate a normal message (string) into a secret byte code (`bytearray`) and then translate the secret byte code back into a normal message. And because it's a `bytearray`, you can even edit the secret code before translating it back!\n",
       "\n",
       "**Explanation:**  `bytearray` objects have the same `decode()` and `encode()` methods as `bytes`.\n",
       "\n",
       "*   `encode(encoding='utf-8', errors='strict')`:  (Strings to bytearrays - actually, you usually encode strings *to bytes* first, then create a bytearray from bytes, like we did earlier).\n",
       "*   `decode(encoding='utf-8', errors='strict')`: (Bytearrays to strings)."
      ]
     },
     {
      "cell_type": "code",
      "execution_count": null,
      "metadata": {},
      "outputs": [],
      "source": [
       "# Encoding and decoding with bytearray\n",
       "\n",
       "text_message = \"Secret Message!\" \n",
       "\n",
       "# Encode string to bytes, then to bytearray\n",
       "byte_message_array = bytearray(text_message.encode('utf-8'))\n",
       "print(\"Encoded bytearray:\", byte_message_array)\n",
       "\n",
       "# Let's modify the bytearray (change '!' to '?')\n",
       "byte_message_array[-1] = ord('?') # Change the last byte (ASCII for '!') to ASCII for '?'\n",
       "print(\"Modified bytearray:\", byte_message_array)\n",
       "\n",
       "# Decode bytearray back to string\n",
       "decoded_message = byte_message_array.decode('utf-8')\n",
       "print(\"Decoded message:\", decoded_message) # Now it's a string again!"
      ]
     },
     {
      "cell_type": "markdown",
      "metadata": {},
      "source": [
       "## 5. `bytearray` vs. `bytes` - Mutable vs. Immutable Secret Codes ⚖️ (Choosing Between Editable and Fixed Codes)\n",
       "\n",
       "So, we have `bytearray` and `bytes`. They are both about binary data, but what's the real difference? And when should you use one over the other?\n",
       "\n",
       "**Motivation:** Understanding when to use `bytearray` vs. `bytes` is important for writing efficient and correct Python code. It's about choosing the right tool for the job!\n",
       "\n",
       "**Analogy:** Imagine you have two types of secret codes:\n",
       "\n",
       "*   **`bytes` (Immutable):** Like a **written secret code on paper**. Once it's written, you can't easily change it. It's good for keeping a record or sending a message that shouldn't be altered.\n",
       "*   **`bytearray` (Mutable):** Like a **digital, editable secret code on your computer**. You can change it, update it, and modify it easily. It's great when you need to work with data that changes or needs to be built up step-by-step.\n",
       "\n",
       "**Explanation:**\n",
       "\n",
       "*   **`bytearray`:**\n",
       "    *   **Mutable:** Can be modified after creation. You can change, add, or remove bytes.\n",
       "    *   Inherits many methods from mutable sequences like lists (e.g., `append`, `insert`, `remove`).\n",
       "*   **`bytes`:**\n",
       "    *   **Immutable:** Cannot be changed after creation.  Once you create a `bytes` object, it's fixed.\n",
       "    *   More memory-efficient if you don't need to modify the data (sometimes).\n",
       "\n",
       "**When to use `bytearray`:**\n",
       "*   When you **need to modify binary data directly**.\n",
       "*   When you need to **edit byte sequences in place**, like building data packets, modifying file content, or working with binary protocols.\n",
       "*   When you need the **mutable methods** like `append`, `insert`, `remove`, etc.\n",
       "\n",
       "**When to use `bytes`:**\n",
       "*   When you need to represent **immutable binary data** that should not be changed.\n",
       "*   For **security** - to prevent accidental modification of binary data.\n",
       "*   When **memory efficiency** is very important and you don't need to modify the data.\n",
       "*   When working with APIs or libraries that expect or return `bytes` objects (which is often the case when dealing with network protocols, file I/O, etc.)."
      ]
     },
     {
      "cell_type": "markdown",
      "metadata": {},
      "source": [
       "## 6. Common Gotchas with `bytearray` ⚠️ (Things to Watch Out For When Editing Secret Codes!)\n",
       "\n",
       "Like any superpower, `bytearray` comes with some things to be aware of! Let's look at some common \"gotchas\" or things to be careful about.\n",
       "\n",
       "**Analogy:** Just like when you're editing a real secret code, you need to be careful not to make mistakes! 🧐  With `bytearray`, there are a few things to keep in mind to avoid accidentally messing things up.\n",
       "\n",
       "**Explanation:**\n",
       "\n",
       "*   **Mutability - Be Careful!**: Mutability is powerful, but it also means you can accidentally change data if you're not careful. If you pass a `bytearray` to a function, and that function modifies it, the original `bytearray` will be changed! (Unlike `bytes`, where you'd get a new `bytes` object if you tried to \"modify\" it).\n",
       "    *   **Analogy:** With great power comes great responsibility! Editing codes directly needs care! 🦸\n",
       "*   **Still Bytes (Integers 0-255):** Even though they are mutable, `bytearray` still stores bytes as integers from 0 to 255. When you access an element using indexing (like `bytearray[0]`), you get an **integer**, not a `bytes` object of length 1.\n",
       "*   **Slightly Less Memory Efficient than `bytes` (due to mutability):** Because `bytearray` objects are designed to be mutable, they might sometimes use a little bit more memory than `bytes` objects for the same data. If you are working with very large amounts of binary data and memory is super critical, and you don't need mutability, `bytes` might be slightly more efficient.\n"
      ]
     },
     {
      "cell_type": "code",
      "execution_count": null,
      "metadata": {},
      "outputs": [],
      "source": [
       "# Gotcha Example: Mutability can have unexpected effects!\n",
       "\n",
       "def modify_bytearray(data):\n",
       "    data[0] = ord('M') # Modify the bytearray INSIDE the function!\n",
       "    print(\"Inside function, bytearray is now:\", data)\n",
       "\n",
       "my_bytearray = bytearray(b'Start')\n",
       "print(\"Before function call, bytearray is:\", my_bytearray)\n",
       "\n",
       "modify_bytearray(my_bytearray) # Call the function, passing in the bytearray\n",
       "\n",
       "print(\"After function call, bytearray is:\", my_bytearray) # The ORIGINAL bytearray is changed!\n",
       "# This is because bytearrays are mutable, and the function modified it directly.\n"
      ]
     },
     {
      "cell_type": "markdown",
      "metadata": {},
      "source": [
       "## 7. Pros and Cons of Using `bytearray` 👍 👎 (When Editable Secret Codes are Really Helpful!)\n",
       "\n",
       "Let's quickly summarize the good and not-so-good things about using `bytearray`.\n",
       "\n",
       "**Analogy:**  Thinking about when editable secret codes are really helpful and when maybe you just need fixed codes.\n",
       "\n",
       "**Pros (Advantages) 👍:**\n",
       "*   **Mutability - Direct Data Modification:** Allows you to modify binary data in place. This is super useful for tasks where you need to build or change binary data dynamically.\n",
       "*   **Inherits `bytes` Operations:** You can still do all the standard `bytes` operations like slicing, concatenation, decoding, etc.\n",
       "*   **Flexibility for Data Manipulation:** Great for building and modifying binary data structures, working with binary file formats, network protocols, and more.\n",
       "\n",
       "**Cons (Disadvantages) 👎:**\n",
       "*   **Mutability - Risk of Accidental Modification:**  Mutability can be a double-edged sword. You need to be careful not to accidentally change data when you don't mean to.\n",
       "*   **Slightly Less Memory Efficient than `bytes`:** Might use a little more memory than `bytes` for the same data, especially for very large datasets.\n",
       "*   **Potentially Slightly Slower than `bytes` for read-only operations:** If you are only reading data and not modifying it, `bytes` might be slightly faster in some cases because they are immutable.\n"
      ]
     },
     {
      "cell_type": "markdown",
      "metadata": {},
      "source": [
       "## 8. When NOT to Use `bytearray` 🙅‍♀️ (When Editable Secret Codes Aren't the Best Tool!)\n",
       "\n",
       "Even with superpowers, sometimes you don't need to use them! There are situations where `bytearray` might not be the best choice, and `bytes` or even strings might be better.\n",
       "\n",
       "**Analogy:** When would you *not* use editable secret codes? Maybe when you want to make sure the code remains unchanged for security, or when you're just sending a simple message and don't need to edit raw data.\n",
       "\n",
       "**Explanation:**\n",
       "\n",
       "*   **For Immutable Data (Use `bytes`):** If you need to represent binary data that should **never be modified**, `bytes` are a better and safer choice. For example, if you are storing a cryptographic hash or a digital signature, you want it to be immutable.\n",
       "*   **For General Text Manipulation (Use Strings):** If you are working with human-readable text and you don't need to manipulate raw bytes, strings are usually simpler and more appropriate. Strings are designed for text, and they have lots of built-in methods for text processing.\n",
       "*   **When Immutability is Desired for Security or Data Integrity (Use `bytes`):** If you want to **guarantee that binary data cannot be accidentally altered**, `bytes` provide that guarantee. This is important in security-sensitive applications.\n"
      ]
     },
     {
      "cell_type": "markdown",
      "metadata": {},
      "source": [
       "# Exercise: Secret Agent Data Modification Mission! 🕵️‍♀️ 💻\n",
       "\n",
       "Congratulations, Agent! You've unlocked the `bytearray` superpower! 🎉 Now, it's time to put your skills to the test with a secret mission. \n",
       "\n",
       "Imagine you are a secret agent who needs to modify encrypted messages and data packets in real-time. Use your `bytearray` skills to complete the following tasks:\n"
      ]
     },
     {
      "cell_type": "markdown",
      "metadata": {},
      "source": [
       "**Task 1: Create a Secret Message Bytearray**\n",
       "\n",
       "Your mission starts with this secret message string: `\"CONFIDENTIAL MESSAGE\"`\n",
       "\n",
       "1.  Encode this string into bytes using UTF-8 encoding.\n",
       "2.  Create a `bytearray` object from these bytes.\n",
       "3.  Print the `bytearray` to see your initial secret message in byte form."
      ]
     },
     {
      "cell_type": "code",
      "execution_count": null,
      "metadata": {},
      "outputs": [],
      "source": [
       "# Task 1 Code here:\n",
       "\n",
       "# 1. Encode the string to bytes\n",
       "secret_message_string = \"CONFIDENTIAL MESSAGE\"\n",
       "secret_message_bytes = secret_message_string.encode('utf-8')\n",
       "\n",
       "# 2. Create a bytearray from bytes\n",
       "secret_message_byte_array = bytearray(secret_message_bytes)\n",
       "\n",
       "# 3. Print the bytearray\n",
       "print(\"Secret Message Bytearray:\", secret_message_byte_array)"
      ]
     },
     {
      "cell_type": "markdown",
      "metadata": {},
      "source": [
       "**Task 2: Modify a Byte to Change the Message**\n",
       "\n",
       "Oops! There's a typo in the message! The word \"CONFIDENTIAL\" should actually be \"SECRET\".\n",
       "\n",
       "1.  Find the index in the `bytearray` where the word \"CONFIDENTIAL\" starts.\n",
       "2.  Change the bytes in the `bytearray` to spell out \"SECRET\" instead of \"CONF\". You'll need to know the ASCII values of 'S', 'E', 'C', 'R', 'E', 'T' or use `ord()`.\n",
       "3.  Print the modified `bytearray`.\n",
       "4.  Decode the modified `bytearray` back into a string to check if you corrected the message."
      ]
     },
     {
      "cell_type": "code",
      "execution_count": null,
      "metadata": {},
      "outputs": [],
      "source": [
       "# Task 2 Code here:\n",
       "\n",
       "# 1. Find the starting index (it's index 0 in this case)\n",
       "start_index = 0\n",
       "\n",
       "# 2. Change bytes to spell 'SECRET'\n",
       "secret_message_byte_array[start_index + 0] = ord('S')\n",
       "secret_message_byte_array[start_index + 1] = ord('E')\n",
       "secret_message_byte_array[start_index + 2] = ord('C')\n",
       "secret_message_byte_array[start_index + 3] = ord('R')\n",
       "secret_message_byte_array[start_index + 4] = ord('E')\n",
       "secret_message_byte_array[start_index + 5] = ord('T')\n",
       "\n",
       "# 3. Print modified bytearray\n",
       "print(\"Modified Bytearray:\", secret_message_byte_array)\n",
       "\n",
       "# 4. Decode and check the message\n",
       "corrected_message = secret_message_byte_array.decode('utf-8')\n",
       "print(\"Corrected Message:\", corrected_message)"
      ]
     },
     {
      "cell_type": "markdown",
      "metadata": {},
      "source": [
       "**Task 3: Append New Bytes to Add to the Message**\n",
       "\n",
       "You need to add \" - TOP SECRET EYES ONLY\" to the end of the message.\n",
       "\n",
       "1.  Encode the string \" - TOP SECRET EYES ONLY\" into bytes.\n",
       "2.  Append these bytes to your `secret_message_byte_array` using `extend()` method.\n",
       "3.  Print the updated `bytearray` and decode it to check the full message."
      ]
     },
     {
      "cell_type": "code",
      "execution_count": null,
      "metadata": {},
      "outputs": [],
      "source": [
       "# Task 3 Code here:\n",
       "\n",
       "# 1. Encode the string to bytes\n",
       "addition_string = \" - TOP SECRET EYES ONLY\"\n",
       "addition_bytes = addition_string.encode('utf-8')\n",
       "\n",
       "# 2. Extend the bytearray\n",
       "secret_message_byte_array.extend(addition_bytes)\n",
       "\n",
       "# 3. Print updated bytearray and decode\n",
       "print(\"Updated Bytearray:\", secret_message_byte_array)\n",
       "full_message = secret_message_byte_array.decode('utf-8')\n",
       "print(\"Full Message:\", full_message)"
      ]
     },
     {
      "cell_type": "markdown",
      "metadata": {},
      "source": [
       "**Task 4: Remove Bytes to Shorten the Message**\n",
       "\n",
       "Oops! The \" EYES ONLY\" part is too sensitive, remove it from the message.\n",
       "\n",
       "1.  Find the starting index of \" EYES ONLY\" in your `bytearray` (you might need to decode to string to find it easily, then encode back to bytes to find index in bytearray, or use `find` on bytearray directly).\n",
       "2.  Remove the bytes corresponding to \" EYES ONLY\" from the `bytearray` using slicing and reassignment (or `del` and slicing).\n",
       "3.  Print the shortened `bytearray` and decode to verify."
      ]
     },
     {
      "cell_type": "code",
      "execution_count": null,
      "metadata": {},
      "outputs": [],
      "source": [
       "# Task 4 Code here:\n",
       "\n",
       "# 1. Find starting index of ' EYES ONLY' (you can do this by finding the bytes directly in the bytearray)\n",
       "eyes_only_bytes = b\" EYES ONLY\"\n",
       "start_remove_index = secret_message_byte_array.find(eyes_only_bytes)\n",
       "\n",
       "# 2. Remove the bytes using slicing and reassignment\n",
       "if start_remove_index != -1: # Check if found\n",
       "    secret_message_byte_array = secret_message_byte_array[:start_remove_index] # Slice up to the start index\n",
       "\n",
       "# 3. Print shortened bytearray and decode\n",
       "print(\"Shortened Bytearray:\", secret_message_byte_array)\n",
       "shortened_message = secret_message_byte_array.decode('utf-8')\n",
       "print(\"Shortened Message:\", shortened_message)"
      ]
     },
     {
      "cell_type": "markdown",
      "metadata": {},
      "source": [
       "**Task 5: Reverse the Bytearray - Create a Reversed Secret Code!**\n",
       "\n",
       "For extra security, let's create a reversed version of the secret message.\n",
       "\n",
       "1.  Reverse the `secret_message_byte_array` using the `reverse()` method.\n",
       "2.  Print the reversed `bytearray`.\n",
       "3.  (Optional) Try to decode the reversed `bytearray` - what do you expect to see?"
      ]
     },
     {
      "cell_type": "code",
      "execution_count": null,
      "metadata": {},
      "outputs": [],
      "source": [
       "# Task 5 Code here:\n",
       "\n",
       "# 1. Reverse the bytearray\n",
       "secret_message_byte_array.reverse()\n",
       "\n",
       "# 2. Print reversed bytearray\n",
       "print(\"Reversed Bytearray:\", secret_message_byte_array)\n",
       "\n",
       "# 3. (Optional) Try to decode (it will be gibberish!)\n",
       "try:\n",
       "    reversed_message = secret_message_byte_array.decode('utf-8')\n",
       "    print(\"Decoded Reversed Message (expect gibberish):\", reversed_message)\n",
       "except UnicodeDecodeError:\n",
       "    print(\"Decoding reversed bytearray might cause errors as it's not valid UTF-8 anymore!\")"
      ]
     },
     {
      "cell_type": "markdown",
      "metadata": {},
      "source": [
       "**Task 6: Encode a New String Message and Edit as Bytearray**\n",
       "\n",
       "You receive a new message: `\"NEW INSTRUCTIONS ARRIVED\"`.  You need to encode it and then change the word \"INSTRUCTIONS\" to \"ORDERS\".\n",
       "\n",
       "1.  Encode the string `\"NEW INSTRUCTIONS ARRIVED\"` to bytes using UTF-8.\n",
       "2.  Convert these bytes to a `bytearray`.\n",
       "3.  Modify the `bytearray` to replace \"INSTRUCTIONS\" with \"ORDERS\".\n",
       "4.  Decode the modified `bytearray` back to a string and print it."
      ]
     },
     {
      "cell_type": "code",
      "execution_count": null,
      "metadata": {},
      "outputs": [],
      "source": [
       "# Task 6 Code here:\n",
       "\n",
       "# 1. Encode new string to bytes\n",
       "new_message_string = \"NEW INSTRUCTIONS ARRIVED\"\n",
       "new_message_bytes = new_message_string.encode('utf-8')\n",
       "\n",
       "# 2. Convert to bytearray\n",
       "new_message_byte_array = bytearray(new_message_bytes)\n",
       "\n",
       "# 3. Modify to replace 'INSTRUCTIONS' with 'ORDERS'\n",
       "instructions_bytes = b\"INSTRUCTIONS\"\n",
       "orders_bytes = b\"ORDERS\"\n",
       "start_instructions_index = new_message_byte_array.find(instructions_bytes)\n",
       "if start_instructions_index != -1:\n",
       "    new_message_byte_array[start_instructions_index:start_instructions_index + len(orders_bytes)] = orders_bytes # Replace slice\n",
       "\n",
       "# 4. Decode and print\n",
       "modified_new_message = new_message_byte_array.decode('utf-8')\n",
       "print(\"Modified New Message:\", modified_new_message)"
      ]
     },
     {
      "cell_type": "markdown",
      "metadata": {},
      "source": [
       "**Task 7: Compare Memory Usage - `bytearray` vs. `bytes`**\n",
       "\n",
       "Let's see if `bytearray` really uses a bit more memory than `bytes` for the same data (as mentioned in \"Gotchas\").\n",
       "\n",
       "1.  Create a string, encode it to bytes, and create a `bytes` object and a `bytearray` object from it.\n",
       "2.  Use `sys.getsizeof()` to get the size of both the `bytes` and `bytearray` objects.\n",
       "3.  Print the sizes and compare. Do you see a slight difference? (The difference might be small for small data, but could be more noticeable for larger data). You'll need to `import sys` at the beginning of your notebook."
      ]
     },
     {
      "cell_type": "code",
      "execution_count": null,
      "metadata": {},
      "outputs": [],
      "source": [
       "# Task 7 Code here:\n",
       "import sys # Import sys module for getsizeof()\n",
       "\n",
       "# 1. Create string, bytes and bytearray\n",
       "sample_string = \"This is a sample message to check memory usage.\"\n",
       "sample_bytes = sample_string.encode('utf-8')\n",
       "sample_bytearray = bytearray(sample_bytes)\n",
       "\n",
       "# 2. Get sizes using sys.getsizeof()\n",
       "bytes_size = sys.getsizeof(sample_bytes)\n",
       "bytearray_size = sys.getsizeof(sample_bytearray)\n",
       "\n",
       "# 3. Print and compare\n",
       "print(\"Size of bytes object:\", bytes_size, \"bytes\")\n",
       "print(\"Size of bytearray object:\", bytearray_size, \"bytes\")\n",
       "\n",
       "if bytearray_size > bytes_size:\n",
       "    print(\"Bytearray is slightly larger in memory (as expected due to mutability).\")\n",
       "elif bytearray_size == bytes_size:\n",
       "    print(\"Bytearray and bytes are the same size (might happen for small data).\")\n",
       "else:\n",
       "    print(\"Bytes is larger!? (This is unexpected, check your code.)\")"
      ]
     },
     {
      "cell_type": "markdown",
      "metadata": {},
      "source": [
       "**Bonus Task 8: Gotcha - Mutability Effect**\n",
       "\n",
       "Remember the \"Gotcha\" about mutability? Let's see it in action!\n",
       "\n",
       "1.  Create a `bytearray`.\n",
       "2.  Create a second variable and assign it to the *same* `bytearray` object (don't create a new bytearray, just make the second variable point to the first one).\n",
       "3.  Modify the `bytearray` using the *second* variable.\n",
       "4.  Print the `bytearray` using the *first* variable. Did it change? Why?"
      ]
     },
     {
      "cell_type": "code",
      "execution_count": null,
      "metadata": {},
      "outputs": [],
      "source": [
       "# Bonus Task 8 Code here:\n",
       "\n",
       "# 1. Create a bytearray\n",
       "original_bytearray = bytearray(b\"ORIGINAL\")\n",
       "print(\"Original bytearray (variable 'original_bytearray'):\", original_bytearray)\n",
       "\n",
       "# 2. Second variable points to the same bytearray\n",
       "another_variable = original_bytearray # NO new bytearray created, just another name for the SAME object\n",
       "\n",
       "# 3. Modify using the second variable\n",
       "another_variable[0] = ord('M') # Change 'O' to 'M' using 'another_variable'\n",
       "print(\"Bytearray modified via 'another_variable':\", another_variable)\n",
       "\n",
       "# 4. Print using the first variable - is it changed?\n",
       "print(\"Original bytearray (variable 'original_bytearray') AFTER modification:\", original_bytearray)\n",
       "# YES! 'original_bytearray' is also changed because both variables point to the SAME mutable bytearray object.\n"
      ]
     },
     {
      "cell_type": "markdown",
      "metadata": {},
      "source": [
       "**Bonus Task 9: When NOT to Use Bytearrays Thinking**\n",
       "\n",
       "Think about a scenario where using `bytes` (immutable) would be a *better* choice than `bytearray` (mutable) for handling secret messages or computer data. \n",
       "\n",
       "Write down a short explanation of a situation and why `bytes` would be preferable in that case. (Hint: Think about security, preventing accidental changes, or just needing to store data without ever modifying it). \n",
       "\n",
       "**Example Scenario Idea:**  Imagine you are storing a master password or a digital certificate that should NEVER be changed after it's created. "
      ]
     },
     {
      "cell_type": "markdown",
      "metadata": {},
      "source": [
       "# Congratulations, Super Agent! 🥳\n",
       "\n",
       "You've completed your mission and mastered the `bytearray` superpower! You now know how to create, modify, and manipulate binary data in Python.  You're ready to tackle even more complex coding challenges and data manipulation tasks! Keep practicing and exploring! 💪✨ "
      ]
     }
    ],
    "metadata": {
     "kernelspec": {
      "display_name": "Python 3",
      "language": "python",
      "name": "python3"
     },
     "language_info": {
      "codemirror_mode": {
       "name": "ipython",
       "version": 3
      },
      "file_extension": ".py",
      "mimetype": "text/x-python",
      "name": "python",
      "nbconvert_exporter": "python",
      "pygments_lexer": "ipython3",
      "version": "3.8.5"
     }
    },
    "nbformat": 4,
    "nbformat_minor": 4
   }