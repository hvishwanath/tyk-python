{
    "cells": [
     {
      "cell_type": "markdown",
      "metadata": {},
      "source": [
       "# Python Bytes: Secret Agent Data! 🕵️‍♀️ 🤫\n",
       "\n",
       "Hey there, future secret agent! 👋  Are you ready to learn about a super cool and kinda mysterious part of Python called **`bytes`**?  \n",
       "\n",
       "Imagine computers speaking in a secret code... that's kind of what `bytes` are all about! They're like the raw language computers use to understand everything – from text messages to pictures of cats 😻.  \n",
       "\n",
       "Think of `bytes` as **secret data packets** 📦 that computers send and receive.  Learning about `bytes` is like learning to decipher this secret computer language! It's going to be super useful when you want to understand how computers really work behind the scenes.  \n",
       "\n",
       "Ready to become a Bytes Decoder? Let's dive in! 🚀"
      ]
     },
     {
      "cell_type": "markdown",
      "metadata": {},
      "source": [
       "## 1. What are Python `bytes`? Secret Computer Language 🤫"
      ]
     },
     {
      "cell_type": "markdown",
      "metadata": {},
      "source": [
       "So, what exactly *are* these `bytes` things? 🤔\n",
       "\n",
       "Remember how we learned about strings for text, lists for ordered items, and dictionaries for key-value pairs? Well, `bytes` are another type of data in Python, but they're a bit more... **raw**. \n",
       "\n",
       "Think of it this way: \n",
       "\n",
       "*   **Strings** are like words and sentences we humans understand. 🗣️\n",
       "*   **`bytes`** are like the **secret code** computers use to represent *everything*, including those words and sentences! 🤖\n",
       "\n",
       "`bytes` are sequences of **bytes**, and each byte is like a tiny container that can hold a number from 0 to 255.  These numbers are the computer's alphabet!  Each number represents a piece of digital information. 🧱\n",
       "\n",
       "Why do we need them?  Well, computers work with 0s and 1s (binary), right?  A byte is made up of 8 of these 0s and 1s (8 bits).  `bytes` in Python let us work directly with this raw binary data. This is super important for things like:\n",
       "\n",
       "*   **Working with files:**  When you open a file on your computer, Python might read it as `bytes` first!\n",
       "*   **Sending information over the internet:** Data sent online is often in `bytes` format. 🌐\n",
       "*   **Dealing with different languages and characters:**  Encoding and decoding text involves `bytes`!\n",
       "\n",
       "Let's see how to create `bytes` in Python! There are a couple of ways..."
      ]
     },
     {
      "cell_type": "markdown",
      "metadata": {},
      "source": [
       "### Creating `bytes` - Making Secret Codes! 📝"
      ]
     },
     {
      "cell_type": "markdown",
      "metadata": {},
      "source": [
       "**1. Using the `b` prefix (like a secret agent badge! 🪪):**\n",
       "\n",
       "You can put a `b` right before a string to make it a `bytes` object.  This works for strings that only contain characters that are part of the basic computer alphabet (ASCII).\n"
      ]
     },
     {
      "cell_type": "code",
      "execution_count": null,
      "metadata": {},
      "outputs": [],
      "source": [
       "# Creating bytes using the 'b' prefix\n",
       "secret_message_bytes = b'Hello'\n",
       "print(secret_message_bytes)\n",
       "print(type(secret_message_bytes)) # Let's check the type!"
      ]
     },
     {
      "cell_type": "markdown",
      "metadata": {},
      "source": [
       "See? It starts with a `b` and looks a bit like a string, but it's a `bytes` object!  Notice the `b` in the output too.\n",
       "\n",
       "**2. Using the `bytes()` constructor (like building with byte blocks! 🧱):**\n",
       "\n",
       "You can also create `bytes` from a list of **integers**. Remember, each byte is just a number from 0 to 255.  Let's make a secret code from numbers!"
      ]
     },
     {
      "cell_type": "code",
      "execution_count": null,
      "metadata": {},
      "outputs": [],
      "source": [
       "# Creating bytes from a list of integers\n",
       "# These numbers represent ASCII codes for letters 'W', 'O', 'W'\n",
       "number_code = [87, 79, 87]\n",
       "bytes_from_numbers = bytes(number_code)\n",
       "print(bytes_from_numbers)\n",
       "print(type(bytes_from_numbers))"
      ]
     },
     {
      "cell_type": "markdown",
      "metadata": {},
      "source": [
       "Cool! It looks a bit different, right? But it's also a `bytes` object.  When we created it from numbers, Python tried to show us the characters those numbers represent (if they are printable ASCII characters like 'WOW').  If a number doesn't represent a printable character, you might see something like `\\x...` which is another way to represent bytes.\n",
       "\n",
       "**Important things to remember about `bytes`:**\n",
       "\n",
       "*   `bytes` are **immutable**!  Once you create a `bytes` object, you can't change it. Just like a secret code, once it's written, it's set! (We'll talk more about this later).\n",
       "*   `bytes` are **sequences of single bytes**. Each item in a `bytes` object is a number between 0 and 255.\n",
       "*   `bytes` are for representing **raw binary data**.  This is different from strings which are mainly for text we read."
      ]
     },
     {
      "cell_type": "markdown",
      "metadata": {},
      "source": [
       "## 2. Encoding and Decoding - Translating the Code 🗣️ ➡️ 🤖 ➡️ 🗣️"
      ]
     },
     {
      "cell_type": "markdown",
      "metadata": {},
      "source": [
       "Okay, so we have `bytes`, the computer's secret language. But how do we translate our human language (strings) into this code and back again? 🤔\n",
       "\n",
       "This is where **encoding** and **decoding** come in!  Think of it like using a **codebook** 📖. \n",
       "\n",
       "*   **Encoding:**  Turning human text (strings) into computer code (`bytes`). It's like using a codebook to translate your message into a secret code.  🗣️ ➡️ 🤖\n",
       "*   **Decoding:** Turning computer code (`bytes`) back into human text (strings). It's like using the codebook in reverse to understand the secret message! 🤖 ➡️ 🗣️\n",
       "\n",
       "Different codebooks exist!  For computers, these codebooks are called **encodings**.  Two very common ones are:\n",
       "\n",
       "*   **UTF-8:**  A super popular encoding that can handle almost all characters from all languages in the world!  It's like a big, universal codebook. 🌍\n",
       "*   **ASCII:**  An older, simpler encoding that only works for basic English characters (letters, numbers, symbols). It's like a smaller, simpler codebook. 🇺🇸\n",
       "\n",
       "Let's see how to use these in Python!"
      ]
     },
     {
      "cell_type": "markdown",
      "metadata": {},
      "source": [
       "### Encoding Strings to Bytes - Making the Secret Code 📝"
      ]
     },
     {
      "cell_type": "code",
      "execution_count": null,
      "metadata": {},
      "outputs": [],
      "source": [
       "# Let's start with a string (human text)\n",
       "normal_message = \"Hello! 👋🌍\"\n",
       "\n",
       "# Encode it into bytes using UTF-8 encoding (our universal codebook)\n",
       "bytes_message_utf8 = normal_message.encode('utf-8')\n",
       "print(bytes_message_utf8)\n",
       "print(type(bytes_message_utf8))"
      ]
     },
     {
      "cell_type": "markdown",
      "metadata": {},
      "source": [
       "See!  We used the `.encode('utf-8')` method on our string to turn it into `bytes` using the UTF-8 codebook.  Notice that the output starts with `b` again, and it shows the bytes representation. The globe emoji 🌍 is also encoded in UTF-8!\n",
       "\n",
       "Let's try encoding with ASCII.  Remember, ASCII is simpler and doesn't have emojis or characters from all languages. What happens if we try to encode our message with ASCII?"
      ]
     },
     {
      "cell_type": "code",
      "execution_count": null,
      "metadata": {},
      "outputs": [],
      "source": [
       "# Trying to encode with ASCII\n",
       "try:\n",
       "    bytes_message_ascii = normal_message.encode('ascii')\n",
       "    print(bytes_message_ascii)\n",
       "except UnicodeEncodeError as e:\n",
       "    print(f\"Oops! Encoding with ASCII failed: {e}\")"
      ]
     },
     {
      "cell_type": "markdown",
      "metadata": {},
      "source": [
       "💥 Uh oh!  We got an error! `UnicodeEncodeError`. This is because ASCII can't encode the 👋 or 🌍 characters. It's like trying to use a codebook that doesn't have letters for all the words you want to write!  \n",
       "\n",
       "**Always choose the right encoding for your text! UTF-8 is a safe bet for most things.**"
      ]
     },
     {
      "cell_type": "markdown",
      "metadata": {},
      "source": [
       "### Decoding Bytes to Strings - Reading the Secret Message 📖"
      ]
     },
     {
      "cell_type": "code",
      "execution_count": null,
      "metadata": {},
      "outputs": [],
      "source": [
       "# Let's decode our UTF-8 bytes message back to a string\n",
       "decoded_message = bytes_message_utf8.decode('utf-8')\n",
       "print(decoded_message)\n",
       "print(type(decoded_message))"
      ]
     },
     {
      "cell_type": "markdown",
      "metadata": {},
      "source": [
       "Yay! 🎉 We got our original message back!  We used the `.decode('utf-8')` method on our `bytes` object, using the same 'utf-8' codebook.  It's important to use the **same encoding for decoding that you used for encoding!** Otherwise, you might get gibberish or errors.  \n",
       "\n",
       "Imagine using the wrong codebook to decode a secret message... it wouldn't make sense! 🤪"
      ]
     },
     {
      "cell_type": "markdown",
      "metadata": {},
      "source": [
       "## 3. Accessing `bytes` Items - Peeking at Individual Code Numbers 🔢"
      ]
     },
     {
      "cell_type": "markdown",
      "metadata": {},
      "source": [
       "So, we have our `bytes` message. What if we want to look at the individual byte values, the secret code numbers? 🤔\n",
       "\n",
       "Just like with lists, strings, and arrays, we can use **indexing** to access individual items in a `bytes` object!  Think of it as looking at one number at a time in our secret code sequence. 🕵️‍♂️\n",
       "\n",
       "**But here's a super important thing:** When you access an item in a `bytes` object, you get back an **integer** (a number from 0 to 255), **not a character string!**  Remember, `bytes` are sequences of numbers, not text."
      ]
     },
     {
      "cell_type": "code",
      "execution_count": null,
      "metadata": {},
      "outputs": [],
      "source": [
       "# Let's look at our UTF-8 bytes message again\n",
       "print(bytes_message_utf8)\n",
       "\n",
       "# Accessing the first byte (at index 0)\n",
       "first_byte = bytes_message_utf8[0]\n",
       "print(first_byte)\n",
       "print(type(first_byte)) # Let's check the type!"
      ]
     },
     {
      "cell_type": "markdown",
      "metadata": {},
      "source": [
       "See? `bytes_message_utf8[0]` gave us the number `72`, and its type is `<class 'int'>`.  `72` is the ASCII code for the letter 'H'.  \n",
       "\n",
       "Let's look at the second byte:"
      ]
     },
     {
      "cell_type": "code",
      "execution_count": null,
      "metadata": {},
      "outputs": [],
      "source": [
       "# Accessing the second byte (at index 1)\n",
       "second_byte = bytes_message_utf8[1]\n",
       "print(second_byte)"
      ]
     },
     {
      "cell_type": "markdown",
      "metadata": {},
      "source": [
       "That's `101`, the ASCII code for 'e'. And so on...  \n",
       "\n",
       "Remember: **Indexing into `bytes` gives you integers, the byte values!**"
      ]
     },
     {
      "cell_type": "markdown",
      "metadata": {},
      "source": [
       "## 4. `bytes` Operations - Working with Secret Messages 🤝"
      ]
     },
     {
      "cell_type": "markdown",
      "metadata": {},
      "source": [
       "What can we *do* with `bytes` objects?  Just like with strings and lists, we can do some cool operations! Let's think of these as actions you might take with secret code messages: 🕵️‍♀️\n",
       "\n",
       "*   **Concatenation (+):**  Combining two secret messages! 🔗\n",
       "*   **Slicing:** Taking a part of a secret message. ✂️\n",
       "*   **Membership Testing (in):** Checking if a secret code is part of a bigger message. 🔍\n",
       "*   **Iteration:**  Going through each number in a secret code message, one by one. 🚶‍♀️"
      ]
     },
     {
      "cell_type": "markdown",
      "metadata": {},
      "source": [
       "### Concatenation - Joining Secret Messages 🔗"
      ]
     },
     {
      "cell_type": "code",
      "execution_count": null,
      "metadata": {},
      "outputs": [],
      "source": [
       "# Let's make two bytes messages\n",
       "message_part1 = b'Top Secret'\n",
       "message_part2 = b' Agent File'\n",
       "\n",
       "# Concatenate them using +\n",
       "combined_message = message_part1 + message_part2\n",
       "print(combined_message)"
      ]
     },
     {
      "cell_type": "markdown",
      "metadata": {},
      "source": [
       "We used the `+` operator to combine `message_part1` and `message_part2` into a new `bytes` object `combined_message`.  Just like joining strings!"
      ]
     },
     {
      "cell_type": "markdown",
      "metadata": {},
      "source": [
       "### Slicing - Taking a Part of the Code ✂️"
      ]
     },
     {
      "cell_type": "code",
      "execution_count": null,
      "metadata": {},
      "outputs": [],
      "source": [
       "# Let's take a slice of our combined message\n",
       "# From index 4 to 10 (not including 10)\n",
       "sliced_message = combined_message[4:10]\n",
       "print(sliced_message)"
      ]
     },
     {
      "cell_type": "markdown",
      "metadata": {},
      "source": [
       "We used slicing `[4:10]` just like with strings or lists to get a part of the `bytes` object.  `sliced_message` is also a `bytes` object!"
      ]
     },
     {
      "cell_type": "markdown",
      "metadata": {},
      "source": [
       "### Membership Testing - Is this Code in the Message? 🔍"
      ]
     },
     {
      "cell_type": "code",
      "execution_count": null,
      "metadata": {},
      "outputs": [],
      "source": [
       "# Let's check if the byte value 83 (ASCII for 'S') is in our combined message\n",
       "is_s_present = 83 in combined_message\n",
       "print(is_s_present)\n",
       "\n",
       "# Let's check for a sequence of bytes\n",
       "is_secret_present = b'Secret' in combined_message\n",
       "print(is_secret_present)"
      ]
     },
     {
      "cell_type": "markdown",
      "metadata": {},
      "source": [
       "We used the `in` operator to check if a byte value (integer `83`) or a byte sequence (`b'Secret'`) is present in our `bytes` object.  It returns `True` or `False`."
      ]
     },
     {
      "cell_type": "markdown",
      "metadata": {},
      "source": [
       "### Iteration - Going Through the Code Numbers 🚶‍♀️"
      ]
     },
     {
      "cell_type": "code",
      "execution_count": null,
      "metadata": {},
      "outputs": [],
      "source": [
       "# Let's loop through each byte in our combined message\n",
       "print(\"Bytes in combined_message as numbers:\")\n",
       "for byte_value in combined_message:\n",
       "    print(byte_value, end=' ') # print each byte value"
      ]
     },
     {
      "cell_type": "markdown",
      "metadata": {},
      "source": [
       "We used a `for` loop to iterate through each byte in `combined_message`.  Remember, each `byte_value` is an **integer** from 0 to 255."
      ]
     },
     {
      "cell_type": "markdown",
      "metadata": {},
      "source": [
       "## 5. `bytes` Immutability - Secret Codes are Unchangeable! 🔒"
      ]
     },
     {
      "cell_type": "markdown",
      "metadata": {},
      "source": [
       "Remember we said earlier that `bytes` are **immutable**?  This is a really important property! It means once you create a `bytes` object, you **cannot change it** directly. 🙅‍♀️\n",
       "\n",
       "Think of it like a secret code written on paper. Once it's written, you can't erase a part of it and rewrite it on the original paper. You'd have to write a whole new code message if you wanted to change something! 📝➡️ 📄 (new message)\n",
       "\n",
       "Let's try to change a byte in our `combined_message` and see what happens..."
      ]
     },
     {
      "cell_type": "code",
      "execution_count": null,
      "metadata": {},
      "outputs": [],
      "source": [
       "# Let's try to change the first byte of combined_message\n",
       "try:\n",
       "    combined_message[0] = 65 # Try to change the first byte to 65 (ASCII for 'A')\n",
       "    print(\"This line should not be reached!\")\n",
       "except TypeError as e:\n",
       "    print(f\"Oops! Cannot change bytes directly: {e}\")"
      ]
     },
     {
      "cell_type": "markdown",
      "metadata": {},
      "source": [
       "💥  TypeError!  \"'bytes' object does not support item assignment\".  Python is telling us: \"Nope, you can't change `bytes` objects like that! They are immutable!\" \n",
       "\n",
       "If you want to \"change\" `bytes`, you have to create a **new** `bytes` object. For example, by combining parts of the old one or creating it from scratch."
      ]
     },
     {
      "cell_type": "code",
      "execution_count": null,
      "metadata": {},
      "outputs": [],
      "source": [
       "# Creating a *new* bytes object based on the old one (but 'changed' conceptually)\n",
       "new_message_start = b'New ' # New starting bytes\n",
       "rest_of_message = combined_message[4:] # Get the rest from index 4 onwards\n",
       "completely_new_message = new_message_start + rest_of_message # Combine them\n",
       "print(completely_new_message) # This is a *new* bytes object"
      ]
     },
     {
      "cell_type": "markdown",
      "metadata": {},
      "source": [
       "See, we created `completely_new_message` which starts with 'New' instead of 'Top'. But `combined_message` is still the same, unchanged.  We didn't modify the original, we made something new based on it."
      ]
     },
     {
      "cell_type": "markdown",
      "metadata": {},
      "source": [
       "## 6. `bytes` vs. Strings - Computer Language vs. Human Language 🗣️ 🆚 🤖"
      ]
     },
     {
      "cell_type": "markdown",
      "metadata": {},
      "source": [
       "So, we've learned a lot about `bytes`. But you might be wondering: When do we use `bytes` and when do we use strings? 🤔  What's the real difference?\n",
       "\n",
       "Think of it like this:\n",
       "\n",
       "*   **Strings** are for **human language**, text that we read and write. They are designed to represent text in a way that's easy for us to understand. 📖\n",
       "*   **`bytes`** are for **computer language**, the raw data that computers work with directly. They are closer to the 0s and 1s that computers understand. 🤖\n",
       "\n",
       "Here's a quick comparison table:\n",
       "\n",
       "| Feature        | Strings (`str`)                  | Bytes (`bytes`)                     |\n",
       "|----------------|------------------------------------|-------------------------------------|\n",
       "| **Purpose**    | Represent human-readable text       | Represent raw binary data           |\n",
       "| **Characters** | Unicode characters (all languages) | Bytes (integers 0-255)            |\n",
       "| **Encoding**   | Already encoded (text format)     | Needs encoding/decoding for text    |\n",
       "| **Mutability** | Immutable                        | Immutable                         |\n",
       "| **Examples**   | \"Hello\", \"你好\", \"😊\"          | `b'Hello'`, `bytes([72, 101, 108])` |\n",
       "\n",
       "**When to use `bytes`:**\n",
       "\n",
       "*   When you're working with **files** in binary mode (like images, sounds, or any file that's not just plain text).\n",
       "*   When you're dealing with **network communication** (sending data over the internet).\n",
       "*   When you need to handle data in its **raw, binary form**.\n",
       "*   When you're working with **encoding and decoding** text.\n",
       "\n",
       "**When to use Strings:**\n",
       "\n",
       "*   For **most text manipulation tasks**, like displaying text on the screen, getting user input, processing words, etc.\n",
       "*   Whenever you are primarily working with **human-readable text**."
      ]
     },
     {
      "cell_type": "markdown",
      "metadata": {},
      "source": [
       "## 7. Uh Oh! Code Mistakes: Common Gotchas with `bytes` ⚠️"
      ]
     },
     {
      "cell_type": "markdown",
      "metadata": {},
      "source": [
       "Just like with any secret code, there are some things to watch out for when working with `bytes`! Let's call them \"byte gotchas\"! 😅\n",
       "\n",
       "*   **Bytes are Integers, Not Characters (at first glance):** When you access a byte, you get a number (0-255), not a letter or symbol directly. It can be a bit confusing at first if you're expecting characters. Remember, these numbers *represent* characters when decoded correctly. 🔢 != 🔤 (initially)\n",
       "\n",
       "*   **Encoding/Decoding Mismatches:** Using the wrong encoding when decoding `bytes` will lead to errors or weird-looking text (gibberish!). Always make sure you are using the correct codebook! 📖❌\n",
       "\n",
       "*   **Immutability (again!):** We keep mentioning this because it's important!  Forgetting that `bytes` are immutable can lead to errors if you try to change them directly. 🔒 Again, you have to create new `bytes` objects if you need to modify the data."
      ]
     },
     {
      "cell_type": "markdown",
      "metadata": {},
      "source": [
       "## 8. Secret Code Superpowers (and not-so-super powers): Pros and Cons of `bytes` 👍 👎"
      ]
     },
     {
      "cell_type": "markdown",
      "metadata": {},
      "source": [
       "Let's think about the good and not-so-good things about using `bytes`. Just like secret codes are super useful in some situations but not in others! 🦸‍♂️ ➡️ 🤷‍♂️\n",
       "\n",
       "**Pros (Superpowers!):**\n",
       "\n",
       "*   **Representing Raw Binary Data:**  Essential for working with files, network stuff, and low-level computer data.  It's the fundamental way computers handle data.\n",
       "*   **Memory Efficiency (for raw data):** For storing large amounts of raw byte data, `bytes` can be more memory-efficient than storing it as strings (especially for non-text data).\n",
       "*   **Foundation for Encoding/Decoding:** `bytes` are the bridge between human-readable text (strings) and the binary world of computers. Crucial for handling text in different languages and formats.\n",
       "\n",
       "**Cons (Not-so-super powers):**\n",
       "\n",
       "*   **Less Human-Readable Directly:** Raw `bytes` output can look like a jumble of numbers or `\\x...` sequences. Not as easy to read and understand as strings directly (you need to decode them to see the text).\n",
       "*   **Immutability:**  While immutability is good for some things, it can be less convenient if you need to modify byte data frequently. You have to create new `bytes` objects each time.\n",
       "*   **Can be more complex than strings for simple text tasks:** For basic text manipulation, strings are usually easier and more natural to work with."
      ]
     },
     {
      "cell_type": "markdown",
      "metadata": {},
      "source": [
       "## 9. When to Speak Plainly: When NOT to Use `bytes` 🙅‍♀️"
      ]
     },
     {
      "cell_type": "markdown",
      "metadata": {},
      "source": [
       "When should you *not* use `bytes`? When is it better to just use plain human language (strings) or other Python data types?  Think about when secret codes are *not* needed! 💬 ➡️ 🗣️\n",
       "\n",
       "*   **For General Text Manipulation:** If you are mainly working with text that humans will read or write, and you don't need to deal with files in binary mode or network data, **strings are usually the better choice**. They are simpler and designed for text.\n",
       "*   **When Mutability is Required for Byte Sequences:** If you need to modify byte data *in place* (change bytes directly), `bytes` are not suitable because they are immutable. In that case, use **`bytearray`** instead (we haven't covered this yet, but it's like a mutable version of `bytes`!).\n",
       "*   **For High-Level Data Structures:** If you need to store structured data like lists of items, dictionaries of key-value pairs, or sets of unique items, use **lists, dictionaries, sets**, etc., not `bytes`. `bytes` are for raw byte sequences, not for organizing complex data structures."
      ]
     },
     {
      "cell_type": "markdown",
      "metadata": {},
      "source": [
       "## 🕵️‍♀️ Secret Agent Mission: Your Bytes Exercises! 🕵️‍♂️"
      ]
     },
     {
      "cell_type": "markdown",
      "metadata": {},
      "source": [
       "Alright, secret agent! Time to put your `bytes` skills to the test!  Imagine you're a spy sending and receiving coded messages and working with computer files at a super-secret level. Your mission, should you choose to accept it (and we know you will! 😉), is to complete these exercises:"
      ]
     },
     {
      "cell_type": "markdown",
      "metadata": {},
      "source": [
       "**Task 1: Create a `bytes` Secret Message**\n",
       "\n",
       "Create a `bytes` object representing the secret message \"MISSION START\" using:\n",
       "    a) The `b''` literal.\n",
       "    b) The `bytes()` constructor (you can use a list of ASCII integer codes if you want, or encode a string)."
      ]
     },
     {
      "cell_type": "code",
      "execution_count": null,
      "metadata": {},
      "outputs": [],
      "source": [
       "# Task 1a: Create bytes using b'' literal\n",
       "# Your code here:\n",
       "\n",
       "\n",
       "# Task 1b: Create bytes using bytes() constructor\n",
       "# Your code here:\n"
      ]
     },
     {
      "cell_type": "markdown",
      "metadata": {},
      "source": [
       "**Task 2: Encode a String Message**\n",
       "\n",
       "You want to send the message \"Agent, proceed with caution!\" to headquarters. Encode this string into `bytes` using UTF-8 encoding."
      ]
     },
     {
      "cell_type": "code",
      "execution_count": null,
      "metadata": {},
      "outputs": [],
      "source": [
       "# Task 2: Encode string to bytes using UTF-8\n",
       "message_to_encode = \"Agent, proceed with caution!\"\n",
       "# Your code here:\n"
      ]
     },
     {
      "cell_type": "markdown",
      "metadata": {},
      "source": [
       "**Task 3: Decode the Bytes Message**\n",
       "\n",
       "You received a `bytes` message: `b'RXZlbmdlcnMsIHJldmVhbCB5b3VyIHNlY3JldHMh'` (it's in Base64, but let's pretend it's just UTF-8 encoded for this exercise!). Decode this `bytes` message back into a string using UTF-8 encoding to read the secret message."
      ]
     },
     {
      "cell_type": "code",
      "execution_count": null,
      "metadata": {},
      "outputs": [],
      "source": [
       "# Task 3: Decode bytes to string using UTF-8\n",
       "bytes_message_to_decode = b'RXZlbmdlcnMsIHJldmVhbCB5b3VyIHNlY3JldHMh'\n",
       "# Your code here:\n"
      ]
     },
     {
      "cell_type": "markdown",
      "metadata": {},
      "source": [
       "**Task 4: Access the First Byte**\n",
       "\n",
       "Take the `bytes` message from Task 2 (the encoded \"Agent, proceed...\"). Access the first byte (at index 0) and print its integer value. What character does this byte represent (if you know ASCII)? "
      ]
     },
     {
      "cell_type": "code",
      "execution_count": null,
      "metadata": {},
      "outputs": [],
      "source": [
       "# Task 4: Access the first byte and print its integer value\n",
       "# Use the bytes_message from Task 2\n",
       "# Your code here:\n"
      ]
     },
     {
      "cell_type": "markdown",
      "metadata": {},
      "source": [
       "**Task 5: Combine Bytes Messages**\n",
       "\n",
       "You have two `bytes` messages:\n",
       "`bytes_message_part1 = b'Code is: '`\n",
       "`bytes_message_part2 = b'12345'`\n",
       "\n",
       "Concatenate these two `bytes` messages to create a single `bytes` message."
      ]
     },
     {
      "cell_type": "code",
      "execution_count": null,
      "metadata": {},
      "outputs": [],
      "source": [
       "# Task 5: Concatenate bytes messages\n",
       "bytes_message_part1 = b'Code is: '\n",
       "bytes_message_part2 = b'12345'\n",
       "# Your code here:\n"
      ]
     },
     {
      "cell_type": "markdown",
      "metadata": {},
      "source": [
       "**Task 6: Try to Change a Byte (and see the error!)**\n",
       "\n",
       "Take the concatenated `bytes` message from Task 5. Try to change the first byte in this message to a different value (e.g., try to set it to the integer value `66`). Run the code and observe the error you get. Explain why you get this error."
      ]
     },
     {
      "cell_type": "code",
      "execution_count": null,
      "metadata": {},
      "outputs": [],
      "source": [
       "# Task 6: Try to change a byte (expect an error)\n",
       "# Use the combined_bytes_message from Task 5\n",
       "# Your code here:\n",
       "\n",
       "# Explanation of the error:\n",
       "# ... (Write your explanation here as a comment)"
      ]
     },
     {
      "cell_type": "markdown",
      "metadata": {},
      "source": [
       "**Task 7: Read a Text File as Bytes**\n",
       "\n",
       "Create a simple text file named `secret_file.txt` (you can do this outside of the notebook or using Python code in a separate cell if you know how to write to files). Put some text in it, like \"This is a secret message in a file!\". \n",
       "\n",
       "Now, write Python code to open and read this file in **bytes mode** (`'rb'`). Print the content you read as `bytes`. Then, decode these `bytes` to a string using UTF-8 and print the string. "
      ]
     },
     {
      "cell_type": "code",
      "execution_count": null,
      "metadata": {},
      "outputs": [],
      "source": [
       "# Task 7: Read a text file as bytes and decode\n",
       "# Assuming 'secret_file.txt' exists in the same folder\n",
       "\n",
       "# Read the file in bytes mode\n",
       "# Your code here:\n",
       "\n",
       "# Print the content as bytes\n",
       "# Your code here:\n",
       "\n",
       "# Decode the bytes to a string using UTF-8\n",
       "# Your code here:\n",
       "\n",
       "# Print the decoded string\n",
       "# Your code here:\n"
      ]
     },
     {
      "cell_type": "markdown",
      "metadata": {},
      "source": [
       "**Bonus Task 8: Encoding/Decoding Gotcha!**\n",
       "\n",
       "Take the `bytes` content you read from `secret_file.txt` in Task 7. Try to decode these `bytes` using the **wrong encoding**, like 'ascii'. What happens? Do you get an error, or gibberish text? Explain why."
      ]
     },
     {
      "cell_type": "code",
      "execution_count": null,
      "metadata": {},
      "outputs": [],
      "source": [
       "# Bonus Task 8: Decoding with wrong encoding (ASCII)\n",
       "# Use the bytes content from Task 7\n",
       "\n",
       "# Try to decode using ASCII\n",
       "# Your code here:\n",
       "\n",
       "# Explanation of what happened:\n",
       "# ... (Write your explanation here as a comment)"
      ]
     },
     {
      "cell_type": "markdown",
      "metadata": {},
      "source": [
       "**Bonus Task 9: When Not to Use Bytes Thinking**\n",
       "\n",
       "Think about a situation where using strings would be much more appropriate and easier than using `bytes`. Describe this situation in a sentence or two. Why are strings better in this case?"
      ]
     },
     {
      "cell_type": "markdown",
      "metadata": {},
      "source": [
       "# Bonus Task 9: When strings are better\n",
       "# Situation where strings are better than bytes:\n",
       "# ... (Write your answer here as a comment)"
      ]
     },
     {
      "cell_type": "markdown",
      "metadata": {},
      "source": [
       "## Mission Complete! 🎉 Congratulations, Agent! 🎉\n",
       "\n",
       "You've successfully learned about Python `bytes` and how they are like secret codes for computers! You're now equipped to understand more about how computers handle data at a lower level, work with files in binary mode, and understand encoding and decoding.  \n",
       "\n",
       "Keep exploring and experimenting! The world of computer science is full of exciting secrets to uncover! 🚀✨\n"
      ]
     }
    ],
    "metadata": {
     "kernelspec": {
      "display_name": "Python 3",
      "language": "python",
      "name": "python3"
     },
     "language_info": {
      "codemirror_mode": {
       "name": "ipython",
       "version": 3
      },
      "file_extension": ".py",
      "mimetype": "text/x-python",
      "name": "python",
      "nbconvert_exporter": "python",
      "pygments_lexer": "ipython3",
      "version": "3.8.5"
     }
    },
    "nbformat": 4,
    "nbformat_minor": 4
   }