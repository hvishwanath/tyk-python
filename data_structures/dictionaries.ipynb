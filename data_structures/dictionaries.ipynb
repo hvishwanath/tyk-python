{
 "cells": [
  {
   "cell_type": "markdown",
   "metadata": {},
   "source": [
    "# Python Dictionaries: Your Awesome Digital Phone Book & Secret Decoder! 📞 🔑\n",
    "\n",
    "Hey there, future Python pro! 👋 Remember how we learned about **lists**? They were like your super cool to-do lists, right?  📝\n",
    "\n",
    "Well, get ready because we're diving into something even MORE awesome today: **Python Dictionaries!** 🎉\n",
    "\n",
    "Think of dictionaries as your **digital phone book** 📱 or even a **secret decoder ring** 🕵️‍♀️.  They're super useful for organizing information and finding it super FAST! Let's jump in and see how they work!"
   ]
  },
  {
   "cell_type": "markdown",
   "metadata": {},
   "source": [
    "## 1. What is a Dictionary? 🤔 (Like a Real Dictionary or a Phone Book! 📖 📞)"
   ]
  },
  {
   "cell_type": "markdown",
   "metadata": {},
   "source": [
    "Imagine you have a real **dictionary** book 📖. You look up a **word** (like \"apple\") to find its **definition** (like \"a round fruit with red, green, or yellow skin and white flesh\").\n",
    "\n",
    "Or think about a **phone book** 📞. You look up a person's **name** (like \"Alice\") to find their **phone number** (like \"555-1234\").\n",
    "\n",
    "Python dictionaries are kind of like that! They help us store information in **pairs** of things: a **key** and a **value**. \n",
    "\n",
    "*   The **key** is like the word you look up in a dictionary or the name in a phone book. It's how you find the information.\n",
    "*   The **value** is like the definition of the word or the phone number. It's the information you want to get.\n",
    "\n",
    "**Why do we need dictionaries in programming?** 🤔\n",
    "\n",
    "Well, sometimes we need to find information really quickly, and we know exactly *what* we're looking for (the **key**!). Dictionaries are AMAZING at this! They are super fast at finding the **value** when you give them the **key**. 🚀\n",
    "\n",
    "**Let's see how to make a dictionary in Python!** 👇\n",
    "\n",
    "We use **curly braces `{}`** to create a dictionary. Inside, we write **key: value** pairs, separated by commas. It looks like this:"
   ]
  },
  {
   "cell_type": "code",
   "execution_count": null,
   "metadata": {},
   "outputs": [],
   "source": [
    "# Let's create a dictionary to store stats for a game character!\n",
    "character_stats = {\n",
    "    \"player_name\": \"AwesomeGamer\",  # \"player_name\" is the key, \"AwesomeGamer\" is the value\n",
    "    \"health\": 100,                 # \"health\" is the key, 100 is the value\n",
    "    \"level\": 5                     # \"level\" is the key, 5 is the value\n",
    "}\n",
    "\n",
    "print(character_stats) # Let's see our dictionary!"
   ]
  },
  {
   "cell_type": "markdown",
   "metadata": {},
   "source": [
    "**See?**  We created a dictionary called `character_stats`.  \n",
    "\n",
    "*   `\"player_name\"`, `\"health\"`, and `\"level\"` are the **keys**. They are like the labels for our information.\n",
    "*   `\"AwesomeGamer\"`, `100`, and `5` are the **values**. These are the actual pieces of information we are storing.\n",
    "\n",
    "**Important Note:** Dictionaries are **unordered**!  This means the order you put the key-value pairs in might not be the order they show up when you print the dictionary.  Think of it like a bag of items - the order you put them in doesn't really matter when you're just looking inside the bag. 🎒"
   ]
  },
  {
   "cell_type": "markdown",
   "metadata": {},
   "source": [
    "## 2. Accessing Items in a Dictionary 🔑 (Like Looking Up a Word! 📖)"
   ]
  },
  {
   "cell_type": "markdown",
   "metadata": {},
   "source": [
    "Okay, we've got our digital phone book (dictionary)! Now, how do we actually **find** something in it? 🤔\n",
    "\n",
    "Just like you use a **word** to look up its **definition** in a dictionary, or a **name** to find a **phone number** in a phone book, we use the **key** to get the **value** in a Python dictionary.\n",
    "\n",
    "We use **square brackets `[]`** with the **key** inside to access the value. Let's try it with our `character_stats` dictionary:"
   ]
  },
  {
   "cell_type": "code",
   "execution_count": null,
   "metadata": {},
   "outputs": [],
   "source": [
    "# Let's get the player's name from the dictionary!\n",
    "player_name = character_stats[\"player_name\"] # We use the key \"player_name\" inside square brackets\n",
    "print(player_name) # Ta-da! We got the value!"
   ]
  },
  {
   "cell_type": "code",
   "execution_count": null,
   "metadata": {},
   "outputs": [],
   "source": [
    "# How about the character's health?\n",
    "character_health = character_stats[\"health\"] # Key is \"health\"\n",
    "print(character_health)"
   ]
  },
  {
   "cell_type": "markdown",
   "metadata": {},
   "source": [
    "**Cool, right?** 😎  We used the keys `\"player_name\"` and `\"health\"` to get their corresponding values. \n",
    "\n",
    "It's like saying, \"Hey `character_stats` dictionary, give me the value that goes with the key `\"player_name\"`!\" and the dictionary is like, \"Okay, here you go: `AwesomeGamer`!\" ✨"
   ]
  },
  {
   "cell_type": "markdown",
   "metadata": {},
   "source": [
    "## 3. Modifying Dictionaries ✍️ (Updating Your Phone Book or Vocabulary! 📞 📖)"
   ]
  },
  {
   "cell_type": "markdown",
   "metadata": {},
   "source": [
    "Dictionaries are not just for looking up information, we can also **change** them! Just like you might:\n",
    "\n",
    "*   **Update** a phone number in your phone book if someone changes their number.\n",
    "*   **Add** a new contact to your phone book.\n",
    "*   **Remove** a contact from your phone book.\n",
    "*   **Add** a new word and its definition to your vocabulary list.\n",
    "\n",
    "We can do similar things with Python dictionaries! Let's see how:"
   ]
  },
  {
   "cell_type": "code",
   "execution_count": null,
   "metadata": {},
   "outputs": [],
   "source": [
    "# Let's update the character's level! They leveled up! 🚀\n",
    "character_stats[\"level\"] = 6  # We use the key and assign a new value\n",
    "print(character_stats) # Level is now 6!"
   ]
  },
  {
   "cell_type": "code",
   "execution_count": null,
   "metadata": {},
   "outputs": [],
   "source": [
    "# Let's add a new stat: 'power'!\n",
    "character_stats[\"power\"] = 75  # Just assign a value to a new key\n",
    "print(character_stats) # Now we have 'power' in our stats!"
   ]
  },
  {
   "cell_type": "code",
   "execution_count": null,
   "metadata": {},
   "outputs": [],
   "source": [
    "# Uh oh, the character lost some health! 🤕\n",
    "character_stats[\"health\"] = 80 # Update health to 80\n",
    "print(character_stats)"
   ]
  },
  {
   "cell_type": "code",
   "execution_count": null,
   "metadata": {},
   "outputs": [],
   "source": [
    "# Let's say we want to remove the 'power' stat. Maybe it's not important anymore. 💨\n",
    "del character_stats[\"power\"] # We use the 'del' keyword and the key\n",
    "print(character_stats) # 'power' is gone!"
   ]
  },
  {
   "cell_type": "markdown",
   "metadata": {},
   "source": [
    "**Awesome!** 💪 You can easily update, add, and remove key-value pairs in your dictionary. It's like keeping your digital phone book or vocabulary list perfectly up-to-date!"
   ]
  },
  {
   "cell_type": "markdown",
   "metadata": {},
   "source": [
    "## 4. Dictionary Operations 🧰 (Checking Words & Getting Lists! 📖 📞)"
   ]
  },
  {
   "cell_type": "markdown",
   "metadata": {},
   "source": [
    "Besides just storing and changing information, we can do some cool **operations** with dictionaries, like:\n",
    "\n",
    "*   **Checking** if a word (key) is in the dictionary.\n",
    "*   Getting a **list of all the words** (keys) in the dictionary.\n",
    "*   Getting a **list of all the definitions** (values) in the dictionary.\n",
    "*   Getting a **list of all the word-definition pairs** (key-value pairs) in the dictionary.\n",
    "\n",
    "Let's see how to do these in Python!"
   ]
  },
  {
   "cell_type": "code",
   "execution_count": null,
   "metadata": {},
   "outputs": [],
   "source": [
    "# Is 'level' a stat in our character_stats dictionary? Let's check!\n",
    "is_level_stat = \"level\" in character_stats # Using the 'in' keyword to check for keys\n",
    "print(is_level_stat) # Should be True because 'level' is a key"
   ]
  },
  {
   "cell_type": "code",
   "execution_count": null,
   "metadata": {},
   "outputs": [],
   "source": [
    "# How about 'mana'? Is that a stat?\n",
    "is_mana_stat = \"mana\" in character_stats\n",
    "print(is_mana_stat) # Should be False because 'mana' is not a key (yet!)"
   ]
  },
  {
   "cell_type": "code",
   "execution_count": null,
   "metadata": {},
   "outputs": [],
   "source": [
    "# Let's get all the stat names (keys)!\n",
    "stat_names = character_stats.keys() # The .keys() method gives us all the keys\n",
    "print(stat_names) # You'll see all the keys in the dictionary"
   ]
  },
  {
   "cell_type": "code",
   "execution_count": null,
   "metadata": {},
   "outputs": [],
   "source": [
    "# Now, let's get all the stat values!\n",
    "stat_values = character_stats.values() # The .values() method gives us all the values\n",
    "print(stat_values) # You'll see all the values"
   ]
  },
  {
   "cell_type": "code",
   "execution_count": null,
   "metadata": {},
   "outputs": [],
   "source": [
    "# And finally, let's get all the key-value pairs together!\n",
    "stat_items = character_stats.items() # The .items() method gives us key-value pairs\n",
    "print(stat_items) # You'll see pairs of (key, value)"
   ]
  },
  {
   "cell_type": "markdown",
   "metadata": {},
   "source": [
    "**Awesome operations!** 🤩 These are super helpful for checking what's in your dictionary and getting different parts of it when you need them."
   ]
  },
  {
   "cell_type": "markdown",
   "metadata": {},
   "source": [
    "## 5. Dictionary \"Methods\" - Special Dictionary Actions ✨"
   ]
  },
  {
   "cell_type": "markdown",
   "metadata": {},
   "source": [
    "Dictionaries have some built-in \"superpowers\" called **methods** that make working with them even easier! Let's explore a few:"
   ]
  },
  {
   "cell_type": "markdown",
   "metadata": {},
   "source": [
    "### `get()` - Safe Key Lookup 🛡️"
   ]
  },
  {
   "cell_type": "markdown",
   "metadata": {},
   "source": [
    "What happens if you try to access a key that **doesn't exist** in the dictionary? Let's try to get the `\"mana\"` stat, which we know is not there:"
   ]
  },
  {
   "cell_type": "code",
   "execution_count": null,
   "metadata": {},
   "outputs": [],
   "source": [
    "# Trying to access a key that doesn't exist...\n",
    "# Oops! This will cause an error! Uncomment to see:\n",
    "# mana_stat = character_stats[\"mana\"] # KeyError: 'mana'"
   ]
  },
  {
   "cell_type": "markdown",
   "metadata": {},
   "source": [
    "See that **`KeyError`**? 😱 It's like trying to look up a word in a dictionary that isn't there - the dictionary gets confused! \n",
    "\n",
    "To avoid this error, we can use the **`.get()` method**. It's like asking nicely: \"Hey dictionary, can you *get* me the value for this key? If it's not there, just tell me `None` instead of yelling at me with an error!\" 😊"
   ]
  },
  {
   "cell_type": "code",
   "execution_count": null,
   "metadata": {},
   "outputs": [],
   "source": [
    "# Let's use .get() to try to get 'mana' stat safely!\n",
    "mana_stat_safe = character_stats.get(\"mana\") # Using .get() method\n",
    "print(mana_stat_safe) # It prints 'None' because 'mana' key doesn't exist, no error!"
   ]
  },
  {
   "cell_type": "code",
   "execution_count": null,
   "metadata": {},
   "outputs": [],
   "source": [
    "# We can also tell .get() to return a default value if the key is not found!\n",
    "mana_stat_default = character_stats.get(\"mana\", 50) # If 'mana' is not found, return 50\n",
    "print(mana_stat_default) # It prints 50 because 'mana' is not there, and we set a default!"
   ]
  },
  {
   "cell_type": "markdown",
   "metadata": {},
   "source": [
    "**`.get()` is super useful when you're not sure if a key exists in your dictionary!** 👍"
   ]
  },
  {
   "cell_type": "markdown",
   "metadata": {},
   "source": [
    "### `update()` - Merging Dictionaries 🤝"
   ]
  },
  {
   "cell_type": "markdown",
   "metadata": {},
   "source": [
    "Imagine you have two phone books and you want to combine them into one!  The `.update()` method is like that for dictionaries. It lets you merge one dictionary into another. 👯‍♀️"
   ]
  },
  {
   "cell_type": "code",
   "execution_count": null,
   "metadata": {},
   "outputs": [],
   "source": [
    "# Let's create another dictionary with more stats:\n",
    "more_stats = {\n",
    "    \"speed\": 60,\n",
    "    \"inventory_slots\": 10\n",
    "}\n",
    "\n",
    "# Let's update our character_stats dictionary with these new stats!\n",
    "character_stats.update(more_stats) # Merging more_stats into character_stats\n",
    "print(character_stats) # Now character_stats has stats from both dictionaries!"
   ]
  },
  {
   "cell_type": "markdown",
   "metadata": {},
   "source": [
    "**`.update()` is great for combining information from different dictionaries!** 💫"
   ]
  },
  {
   "cell_type": "markdown",
   "metadata": {},
   "source": [
    "### `pop()` - Remove and Get! 💥"
   ]
  },
  {
   "cell_type": "markdown",
   "metadata": {},
   "source": [
    "Sometimes you want to remove something from your dictionary, but you also want to know what you removed!  The `.pop()` method does both at once! It's like saying, \"Hey dictionary, **pop out** this key and give me back its value!\" 🎈"
   ]
  },
  {
   "cell_type": "code",
   "execution_count": null,
   "metadata": {},
   "outputs": [],
   "source": [
    "# Let's remove the 'level' stat and get its value at the same time!\n",
    "removed_level = character_stats.pop(\"level\") # .pop() removes 'level' and returns its value\n",
    "print(removed_level) # We got the value of 'level' that was removed!\n",
    "print(character_stats) # 'level' is no longer in the dictionary!"
   ]
  },
  {
   "cell_type": "markdown",
   "metadata": {},
   "source": [
    "**`.pop()` is handy when you need to remove something from the dictionary and also use the value you removed!** 👍"
   ]
  },
  {
   "cell_type": "markdown",
   "metadata": {},
   "source": [
    "## 6. Advanced Dictionary Concepts (Keep it Cool! 😎)"
   ]
  },
  {
   "cell_type": "markdown",
   "metadata": {},
   "source": [
    "Dictionaries can do even MORE cool stuff! Let's peek at a couple of advanced ideas:"
   ]
  },
  {
   "cell_type": "markdown",
   "metadata": {},
   "source": [
    "### Dictionary Comprehension - Super Fast Dictionary Maker! ⚡️"
   ]
  },
  {
   "cell_type": "markdown",
   "metadata": {},
   "source": [
    "Imagine you want to quickly create a special dictionary based on some rule. Like, maybe you want to make a dictionary where the **values** of our `character_stats` become the **keys**, and the **keys** become the **values** (if that makes sense!).  It's like making a reverse phone book! 🔄\n",
    "\n",
    "**Dictionary comprehension** is a super speedy way to do this! It's like a shortcut for creating dictionaries."
   ]
  },
  {
   "cell_type": "code",
   "execution_count": null,
   "metadata": {},
   "outputs": [],
   "source": [
    "# Let's try to reverse our character_stats dictionary (values become keys, keys become values)!\n",
    "# Be careful, this only works if values are unique and can be keys (like strings or numbers). \n",
    "# In our case, values are mostly unique enough for a simple example.\n",
    "reversed_stats = {value: key for key, value in character_stats.items()} # Dictionary comprehension!\n",
    "print(reversed_stats) # See? Keys and values are swapped (where possible)!"
   ]
  },
  {
   "cell_type": "markdown",
   "metadata": {},
   "source": [
    "**Dictionary comprehension is a super cool trick for creating dictionaries quickly!** ✨ You'll learn more about it as you become a Python master! 🧙"
   ]
  },
  {
   "cell_type": "markdown",
   "metadata": {},
   "source": [
    "### Nested Dictionaries - Dictionaries Inside Dictionaries! 📂 🎮"
   ]
  },
  {
   "cell_type": "markdown",
   "metadata": {},
   "source": [
    "Think of **nested dictionaries** like folders inside folders on your computer, or like a game where each player character has an **inventory**, and the inventory itself is a list of items with quantities! 📦\n",
    "\n",
    "A **nested dictionary** is just a dictionary where the **values** are themselves... **dictionaries!** 🤯"
   ]
  },
  {
   "cell_type": "code",
   "execution_count": null,
   "metadata": {},
   "outputs": [],
   "source": [
    "# Let's create a dictionary of game characters, where each character is a key,\n",
    "# and the value is another dictionary with their stats and inventory!\n",
    "game_characters = {\n",
    "    \"Hero\": {\n",
    "        \"stats\": {\n",
    "            \"health\": 120,\n",
    "            \"attack\": 85\n",
    "        },\n",
    "        \"inventory\": {\n",
    "            \"potion\": 5,\n",
    "            \"sword\": 1\n",
    "        }\n",
    "    },\n",
    "    \"Wizard\": {\n",
    "        \"stats\": {\n",
    "            \"health\": 90,\n",
    "            \"magic\": 100\n",
    "        },\n",
    "        \"inventory\": {\n",
    "            \"mana_potion\": 3,\n",
    "            \"staff\": 1\n",
    "        }\n",
    "    }\n",
    "}\n",
    "\n",
    "print(game_characters) # Whoa! Dictionary of dictionaries!"
   ]
  },
  {
   "cell_type": "code",
   "execution_count": null,
   "metadata": {},
   "outputs": [],
   "source": [
    "# How do we access something inside a nested dictionary? We use multiple keys!\n",
    "\n",
    "# Let's get the Hero's health:\n",
    "hero_health = game_characters[\"Hero\"][\"stats\"][\"health\"] # Key for character, then 'stats', then 'health'\n",
    "print(hero_health) # Hero's health!"
   ]
  },
  {
   "cell_type": "code",
   "execution_count": null,
   "metadata": {},
   "outputs": [],
   "source": [
    "# Let's get the Wizard's inventory:\n",
    "wizard_inventory = game_characters[\"Wizard\"][\"inventory\"] # Key for character, then 'inventory'\n",
    "print(wizard_inventory) # Wizard's inventory dictionary!"
   ]
  },
  {
   "cell_type": "code",
   "execution_count": null,
   "metadata": {},
   "outputs": [],
   "source": [
    "# And let's get the number of potions the Hero has:\n",
    "hero_potions = game_characters[\"Hero\"][\"inventory\"][\"potion\"] # Key for character, then 'inventory', then 'potion'\n",
    "print(hero_potions) # Number of hero potions!"
   ]
  },
  {
   "cell_type": "markdown",
   "metadata": {},
   "source": [
    "**Nested dictionaries are super powerful for organizing complex information!** 🏰 Like characters in a game, or even information about countries and cities! 🌍"
   ]
  },
  {
   "cell_type": "markdown",
   "metadata": {},
   "source": [
    "## 7. Common Gotchas with Dictionaries ⚠️ (Things to Watch Out For! 👀)"
   ]
  },
  {
   "cell_type": "markdown",
   "metadata": {},
   "source": [
    "Just like there are little things to be careful about when using a real dictionary or phone book, there are some \"gotchas\" with Python dictionaries. Let's learn about them so you can avoid any surprises!"
   ]
  },
  {
   "cell_type": "markdown",
   "metadata": {},
   "source": [
    "### Keys Must Be Immutable 🔒"
   ]
  },
  {
   "cell_type": "markdown",
   "metadata": {},
   "source": [
    "Dictionary **keys** have to be special - they must be **immutable**.  \"Immutable\" is a fancy word that means \"cannot be changed after they are created.\"  \n",
    "\n",
    "Think of it like this: you can use **words** (strings) or **numbers** as keys in a dictionary, but you can't use **lists** as keys. 🙅‍♀️\n",
    "\n",
    "Why? Because lists can be changed (you can add or remove items from a list). Dictionary keys need to be stable and predictable so the dictionary can find them quickly.  Words and numbers are always the same, they don't change! 👍"
   ]
  },
  {
   "cell_type": "code",
   "execution_count": null,
   "metadata": {},
   "outputs": [],
   "source": [
    "# Strings and numbers are okay as keys:\n",
    "okay_dict = {\n",
    "    \"name\": \"Example\",\n",
    "    "
   ]
  },
  {
   "cell_type": "code",
   "execution_count": null,
   "metadata": {},
   "outputs": [],
   "source": [
    "    10: \"Number Key\"\n",
    "}\n",
    "print(okay_dict) # This works fine!"
   ]
  },
  {
   "cell_type": "code",
   "execution_count": null,
   "metadata": {},
   "outputs": [],
   "source": [
    "# Lists are NOT okay as keys! 🙅‍♀️ Uncomment to see the error:\n",
    "# not_okay_dict = {\n",
    "#     [\"item1\", \"item2\"]: \"Value\" # TypeError: unhashable type: 'list'\n",
    "# }\n",
    "# print(not_okay_dict)"
   ]
  },
  {
   "cell_type": "markdown",
   "metadata": {},
   "source": [
    "**Remember: Use strings, numbers, or tuples (which are also immutable!) as keys in your dictionaries. Avoid lists as keys!** 😉"
   ]
  },
  {
   "cell_type": "markdown",
   "metadata": {},
   "source": [
    "### `KeyError` Strikes Again! 👻"
   ]
  },
  {
   "cell_type": "markdown",
   "metadata": {},
   "source": [
    "We saw `KeyError` earlier when we tried to access a key that didn't exist. It's a common gotcha! 😱\n",
    "\n",
    "**`KeyError` happens when you try to look up a key in a dictionary that is not actually there!** It's like trying to find a word in a dictionary that's not in the book, or a name in a phone book that's not listed."
   ]
  },
  {
   "cell_type": "code",
   "execution_count": null,
   "metadata": {},
   "outputs": [],
   "source": [
    "# Remember, 'mana' is not a key in our character_stats.\n",
    "# Uncomment to see KeyError again:\n",
    "# mana_stat = character_stats[\"mana\"] # KeyError: 'mana'"
   ]
  },
  {
   "cell_type": "markdown",
   "metadata": {},
   "source": [
    "**Always double-check your keys!** Or use `.get()` to avoid `KeyError` if you're not sure if a key exists! 👍"
   ]
  },
  {
   "cell_type": "markdown",
   "metadata": {},
   "source": [
    "### Order is Not Guaranteed (Mostly... 🤔)"
   ]
  },
  {
   "cell_type": "markdown",
   "metadata": {},
   "source": [
    "In older versions of Python, dictionaries were **definitely unordered**.  The order you put items in didn't matter, and when you printed the dictionary, they might show up in a different order!\n",
    "\n",
    "**In modern Python (version 3.7 and later), dictionaries actually remember the order you added items in.** 🎉 So, in most cases, you'll see them in the order you put them in. \n",
    "\n",
    "**However, it's still best to think of dictionaries as being primarily about key-value lookups, not about order.** If you really need to keep things in a specific order, lists are usually a better first choice.  Dictionaries are amazing for finding things fast by key, but not for keeping things in a specific sequence. Think of it like a digital \"bag\" of key-value pairs rather than a perfectly ordered list."
   ]
  },
  {
   "cell_type": "markdown",
   "metadata": {},
   "source": [
    "## 8. Pros and Cons of Using Dictionaries 👍 👎 (When is a Phone Book Really Helpful? 📞)"
   ]
  },
  {
   "cell_type": "markdown",
   "metadata": {},
   "source": [
    "Dictionaries are super powerful, but like any tool, they are best for certain jobs! Let's think about the **good things (pros)** and the **not-so-good things (cons)** about using dictionaries."
   ]
  },
  {
   "cell_type": "markdown",
   "metadata": {},
   "source": [
    "### Pros (Good Things! 👍)"
   ]
  },
  {
   "cell_type": "markdown",
   "metadata": {},
   "source": [
    "*   **Fast Lookups (by Key):** Dictionaries are lightning fast at finding values when you know the key! It's like finding a phone number by name in a phone book - super quick! ⚡️\n",
    "*   **Unordered (in a good way for some tasks):** For many tasks where you just need to look up information, the order doesn't matter. This makes dictionaries very efficient. 💨\n",
    "*   **Mutable:** You can easily change and update dictionaries - add new information, change existing information, remove information. Perfect for data that changes over time! 🔄\n",
    "*   **Versatile:** Dictionary values can be anything! Numbers, strings, lists, even other dictionaries! You can store all sorts of information in them. 🌈"
   ]
  },
  {
   "cell_type": "markdown",
   "metadata": {},
   "source": [
    "### Cons (Not-So-Good Things! 👎)"
   ]
  },
  {
   "cell_type": "markdown",
   "metadata": {},
   "source": [
    "*   **Keys Must Be Immutable:** This limits what you can use as keys. You can't use lists as keys, for example. 🔒\n",
    "*   **No Guaranteed Order (if you need order):** If you need to keep things in a specific sequence, dictionaries are not the primary choice (though ordered dictionaries exist if you really need order and key-value lookups). 🔢\n",
    "*   **Slightly More Memory:** Dictionaries can use a bit more memory than lists to store the same amount of data because of how they are structured for fast lookups (trade-off for speed). 💾"
   ]
  },
  {
   "cell_type": "markdown",
   "metadata": {},
   "source": [
    "**Dictionaries are amazing for looking up information quickly using keys, but they are not always the best tool for every situation!** 🛠️"
   ]
  },
  {
   "cell_type": "markdown",
   "metadata": {},
   "source": [
    "## 9. When NOT to Use Dictionaries 🙅‍♀️ (When a Phone Book Isn't the Best Tool! 📞)"
   ]
  },
  {
   "cell_type": "markdown",
   "metadata": {},
   "source": [
    "When would you **not** use a phone book? 🤔 Maybe for things where you don't have a \"name\" to look up, or when you just need a simple list of things in order.  Same with Python dictionaries! Let's see when they might not be the best choice."
   ]
  },
  {
   "cell_type": "markdown",
   "metadata": {},
   "source": [
    "*   **When Order is Important:** If the **order** of items is super important (like steps in a recipe, a timeline of events, or a list of high scores in order from highest to lowest), **lists** are usually a better first choice.  Dictionaries don't focus on order.\n",
    "*   **When You Don't Need to Look Things Up by a \"Key\":** If you just need a simple collection of items and you access them by their **position** (index) and not by a specific identifier, **lists** are simpler and more efficient. If you just need to store a sequence of things, lists are great!\n",
    "*   **For Very Large Datasets where Memory is a HUGE Concern:** While dictionaries are efficient, for *extremely* massive datasets where every bit of memory counts, there might be even more memory-optimized structures in advanced libraries. But for most things you'll do, dictionaries are perfectly fine! 👍"
   ]
  },
  {
   "cell_type": "markdown",
   "metadata": {},
   "source": [
    "**So, if you need to look up information quickly using keys, dictionaries are your BEST friend!** But if order is key, or you just need a simple sequence, lists might be a better fit. Choose the right tool for the job! 🧰"
   ]
  },
  {
   "cell_type": "markdown",
   "metadata": {},
   "source": [
    "## 🎉 Exercise Time! 🎉 Let's Make a Game Character Dictionary! 🎮"
   ]
  },
  {
   "cell_type": "markdown",
   "metadata": {},
   "source": [
    "Imagine you're creating a game with different characters! Let's use dictionaries to organize their information. 🦸‍♂️🧙‍♀️\n",
    "\n",
    "**Task:** Create a Python notebook and follow these steps:"
   ]
  },
  {
   "cell_type": "markdown",
   "metadata": {},
   "source": [
    "**1. Create a character dictionary:**\n",
    "   Create a dictionary called `my_character` to represent a game character. It should have these keys:\n",
    "   *   `\"name\"` (string, character's name)\n",
    "   *   `\"class\"` (string, like \"Warrior\", \"Mage\", \"Rogue\")\n",
    "   *   `\"level\"` (number, character's level)\n",
    "   *   `\"health\"` (number, character's health points)\n",
    "   *   `\"inventory\"` (This will be another dictionary! See step 2)"
   ]
  },
  {
   "cell_type": "code",
   "execution_count": null,
   "metadata": {},
   "outputs": [],
   "source": [
    "# 1. Create my_character dictionary here:"
   ]
  },
  {
   "cell_type": "markdown",
   "metadata": {},
   "source": [
    "**2. Create a nested inventory dictionary:**\n",
    "   Inside your `my_character` dictionary, for the key `\"inventory\"`, create **another dictionary** (nested dictionary!). This inventory dictionary should store the items the character has and how many of each item. For example:\n",
    "   ```python\n",
    "   \"inventory\": {\"potion\": 3, \"sword\": 1, \"gold\": 50}\n",
    "   ```\n",
    "   Add at least 3 different items to your character's inventory."
   ]
  },
  {
   "cell_type": "code",
   "execution_count": null,
   "metadata": {},
   "outputs": [],
   "source": [
    "# 2. Create inventory dictionary inside my_character:"
   ]
  },
  {
   "cell_type": "markdown",
   "metadata": {},
   "source": [
    "**3. Access and print character info:**\n",
    "   *   Access and print the character's `\"name\"`.\n",
    "   *   Access and print the character's `\"health\"`.\n"
   ]
  },
  {
   "cell_type": "code",
   "execution_count": null,
   "metadata": {},
   "outputs": [],
   "source": [
    "# 3. Access and print name and health:"
   ]
  },
  {
   "cell_type": "markdown",
   "metadata": {},
   "source": [
    "**4. Update character stats:**\n",
    "   *   Increase the character's `\"level\"` by 1.\n",
    "   *   Increase the character's `\"health\"` by 20 (they found a healing potion!)."
   ]
  },
  {
   "cell_type": "code",
   "execution_count": null,
   "metadata": {},
   "outputs": [],
   "source": [
    "# 4. Update level and health:"
   ]
  },
  {
   "cell_type": "markdown",
   "metadata": {},
   "source": [
    "**5. Modify inventory:**\n",
    "   *   Add a new item to the inventory, like `\"shield\": 1`.\n",
    "   *   Increase the quantity of an existing item in the inventory (e.g., find another potion, so increase `\"potion\"` count by 1)."
   ]
  },
  {
   "cell_type": "code",
   "execution_count": null,
   "metadata": {},
   "outputs": [],
   "source": [
    "# 5. Modify inventory (add new item, increase quantity):"
   ]
  },
  {
   "cell_type": "markdown",
   "metadata": {},
   "source": [
    "**6. Remove an item from inventory:**\n",
    "   *   Let's say the character used a sword and it broke! Remove the `\"sword\"` item from the inventory."
   ]
  },
  {
   "cell_type": "code",
   "execution_count": null,
   "metadata": {},
   "outputs": [],
   "source": [
    "# 6. Remove an item from inventory:"
   ]
  },
  {
   "cell_type": "markdown",
   "metadata": {},
   "source": [
    "**7. Check for item in inventory:**\n",
    "   *   Check if the character has a `\"potion\"` in their inventory using the `in` keyword. Print `True` or `False`."
   ]
  },
  {
   "cell_type": "code",
   "execution_count": null,
   "metadata": {},
   "outputs": [],
   "source": [
    "# 7. Check for 'potion' in inventory:"
   ]
  },
  {
   "cell_type": "markdown",
   "metadata": {},
   "source": [
    "**8. Get a list of inventory items:**\n",
    "   *   Get a list of all the items in the character's inventory (just the item names, which are the keys of the inventory dictionary) using the `.keys()` method. Print the list."
   ]
  },
  {
   "cell_type": "code",
   "execution_count": null,
   "metadata": {},
   "outputs": [],
   "source": [
    "# 8. Get a list of inventory items (keys):"
   ]
  },
  {
   "cell_type": "markdown",
   "metadata": {},
   "source": [
    "**Bonus Challenges! 🌟**"
   ]
  },
  {
   "cell_type": "markdown",
   "metadata": {},
   "source": [
    "**9. (Gotcha Exercise): List as Key Error!**\n",
    "   *   Try to create a new dictionary where you use a **list** as a key (e.g., `{[“item1”, “item2”]: “value”}`). Run the code and see the error. Explain in a comment in your notebook **why** you get this error (hint: keys must be immutable!)."
   ]
  },
  {
   "cell_type": "code",
   "execution_count": null,
   "metadata": {},
   "outputs": [],
   "source": [
    "# 9. Bonus: List as Key - try to create a dictionary with a list as a key and see the error:"
   ]
  },
  {
   "cell_type": "markdown",
   "metadata": {},
   "source": [
    "**10. (When Not to Use Dictionaries Thinking): When Lists Might Be Better?**\n",
    "    *   Imagine you just wanted to keep a simple **ordered list** of character names in your game, in the order they were created. Would a dictionary be the best way to store this? Why or why not? When might a **list** be a better choice in this scenario? Write your answer as a comment in your notebook. (Think about order and lookups!)."
   ]
  },
  {
   "cell_type": "markdown",
   "metadata": {},
   "source": [
    "# 10. Bonus: When Lists Might Be Better - your thoughts in a comment:"
   ]
  },
  {
   "cell_type": "markdown",
   "metadata": {},
   "source": [
    "## 🎉 Congratulations! 🎉\n",
    "\n",
    "You've just learned all about Python dictionaries! 🥳 You're now a dictionary master!  You know how to create them, access items, modify them, use cool methods, and even understand some advanced concepts and gotchas!  Keep practicing, and you'll be using dictionaries like a pro in no time! 🚀\n",
    "\n",
    "Dictionaries are super useful in programming, and you'll see them everywhere as you learn more Python. Great job! 👍 Keep exploring and have fun coding! 😄"
   ]
  }
 ],
 "metadata": {
  "kernelspec": {
   "display_name": "Python 3",
   "language": "python",
   "name": "python3"
  },
  "language_info": {
   "codemirror_mode": {
    "name": "ipython",
    "version": 3
   },
   "file_extension": ".py",
   "mimetype": "text/x-python",
   "name": "python",
   "nbconvert_exporter": "python",
   "pygments_lexer": "ipython3",
   "version": "3.7.6"
  }
 },
 "nbformat": 4,
 "nbformat_minor": 4
}
