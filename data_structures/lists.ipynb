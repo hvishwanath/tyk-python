{
    "cells": [
     {
      "cell_type": "markdown",
      "metadata": {},
      "source": [
       "# Python Lists: Your Super Cool Digital To-Do List! 🚀\n",
       "\n",
       "Hey there, future Python Pro! 👋 Welcome to the awesome world of Python lists! Think of lists as your super cool digital to-do lists or maybe even your shopping lists.  They're super handy for keeping things organized in your computer programs, just like you organize your toys or video games in real life!\n",
       "\n",
       "Let's dive in and see how lists work and why they are so incredibly useful. Get ready for some coding fun! 🎉"
      ]
     },
     {
      "cell_type": "markdown",
      "metadata": {},
      "source": [
       "## 1. What is a List? 🤔 (Like a Real-World To-Do List! 📝)\n",
       "\n",
       "**Motivation:** Imagine you have a lot of things to remember – like homework, chores, games you want to play, books you want to read. Writing them down helps, right?  In programming, we also need to keep track of many things. That's where lists come in!\n",
       "\n",
       "**Analogy:** Think of a list like your **to-do list**! You write down tasks in order, like:\n",
       "\n",
       "1. Finish math homework\n",
       "2. Practice piano\n",
       "3. Play video games 🎮\n",
       "4. Read a book 📚\n",
       "\n",
       "A Python list is similar! It's an **ordered collection of items**. 'Ordered' means the items stay in the order you put them in.  And 'collection' just means it's a group of things.\n",
       "\n",
       "**Explanation:** In Python, we create a list using square brackets `[]`.  Inside the brackets, we put our items, separated by commas `,`.\n",
       "\n",
       "**Example:** Let's make a list of your favorite video games! 🕹️"
      ]
     },
     {
      "cell_type": "code",
      "execution_count": null,
      "metadata": {},
      "outputs": [],
      "source": [
       "# Let's create a list of your favorite video games!\n",
       "favorite_games = [\"Minecraft\", \"Fortnite\", \"Among Us\", \"Roblox\"]\n",
       "\n",
       "# Let's see what's in our list!\n",
       "print(favorite_games)"
      ]
     },
     {
      "cell_type": "markdown",
      "metadata": {},
      "source": [
       "**Try it yourself!**  Change the list above to include your own favorite games or books or sports!  Run the code cell by pressing `Shift + Enter` to see your list printed out.  Cool, right? 😎"
      ]
     },
     {
      "cell_type": "markdown",
      "metadata": {},
      "source": [
       "## 2. Accessing Items in a List: Like Numbered Lockers! 🔑\n",
       "\n",
       "**Motivation:** Now that we have a list, how do we get to a specific game in our list? Imagine you want to find the *first* game or the *third* game.\n",
       "\n",
       "**Analogy:** Think of list items like **lockers in a school hallway**, all lined up in a row and numbered!  Each item in the list has a position, and we can use that position to find it.  **Important:** Python starts counting from 0, not 1!  It's a bit weird at first, but you'll get used to it!\n",
       "\n",
       "| Locker Number (Index) | Game          |\n",
       "|-----------------------|---------------|\n",
       "| 0                     | Minecraft     |\n",
       "| 1                     | Fortnite      |\n",
       "| 2                     | Among Us      |\n",
       "| 3                     | Roblox        |\n",
       "\n",
       "**Explanation:** We use **indexing** to access items.  To get an item, we write the list name followed by square brackets `[]` with the index number inside.\n",
       "\n",
       "*   **Positive Indexing:** Starts from 0 for the first item, 1 for the second, and so on.\n",
       "*   **Negative Indexing:**  You can also count from the end! `-1` is the last item, `-2` is the second to last, etc.\n",
       "\n",
       "**Example:** Let's access some games from our `favorite_games` list!"
      ]
     },
     {
      "cell_type": "code",
      "execution_count": null,
      "metadata": {},
      "outputs": [],
      "source": [
       "# Let's get the first game (at index 0)\n",
       "first_game = favorite_games[0]\n",
       "print(\"The first game is:\", first_game)\n",
       "\n",
       "# Let's get the third game (at index 2)\n",
       "third_game = favorite_games[2]\n",
       "print(\"The third game is:\", third_game)\n",
       "\n",
       "# Let's get the last game using negative indexing (index -1)\n",
       "last_game = favorite_games[-1]\n",
       "print(\"The last game is:\", last_game)"
      ]
     },
     {
      "cell_type": "markdown",
      "metadata": {},
      "source": [
       "**Try it yourself!**  Change the index numbers in the code above to access different games from your list.  What happens if you try to access an index that's too big (like index 10 when you only have 4 games)?  Try it and see the error! (Errors are okay, they help us learn! 😉)"
      ]
     },
     {
      "cell_type": "markdown",
      "metadata": {},
      "source": [
       "## 3. Modifying Lists: Updating Your To-Do List! ✏️\n",
       "\n",
       "**Motivation:**  To-do lists aren't set in stone, right? You add new tasks, cross off completed ones, or maybe change the order. Python lists are the same – we can change them after we create them!\n",
       "\n",
       "**Analogy:** Think about updating your to-do list:\n",
       "\n",
       "*   **Adding a new task:**  You might add \"Help with dinner\" to your list.\n",
       "*   **Removing a task:**  Once you finish \"Finish math homework\", you can cross it off.\n",
       "*   **Changing a task:**  Maybe \"Practice piano\" becomes \"Practice guitar\" instead.\n",
       "\n",
       "**Explanation:** We can modify lists using different methods (special list actions) and by directly changing items.\n",
       "\n",
       "Here are some cool ways to modify lists:\n",
       "\n",
       "*   **`append()`:**  Adds an item to the **end** of the list. (Like adding to the bottom of your to-do list).\n",
       "*   **`insert(index, item)`:**  Adds an item at a **specific position** (index). (Like inserting a high-priority task at the top).\n",
       "*   **`remove(item)`:**  Removes the **first occurrence** of a specific item. (Like crossing off a task).\n",
       "*   **`pop(index)`:** Removes the item at a **specific position** and also gives you back the removed item (if you want to remember what you removed). If you don't give an index, it removes the **last item**.\n",
       "*   **Direct Assignment:** You can change an item at a specific index by using `=` (equals sign).\n",
       "\n",
       "**Example:** Let's modify our `favorite_games` list!"
      ]
     },
     {
      "cell_type": "code",
      "execution_count": null,
      "metadata": {},
      "outputs": [],
      "source": [
       "# Let's add a new game to the end of the list using append()\n",
       "favorite_games.append(\"Overwatch\")\n",
       "print(\"List after appending:\", favorite_games)\n",
       "\n",
       "# Let's insert a game at the beginning (index 0) using insert()\n",
       "favorite_games.insert(0, \"Minecraft Dungeons\")\n",
       "print(\"List after inserting:\", favorite_games)\n",
       "\n",
       "# Oops, maybe 'Among Us' is not your favorite anymore. Let's remove it using remove()\n",
       "favorite_games.remove(\"Among Us\")\n",
       "print(\"List after removing:\", favorite_games)\n",
       "\n",
       "# Let's remove the last game using pop()\n",
       "removed_game = favorite_games.pop()\n",
       "print(\"List after popping:\", favorite_games)\n",
       "print(\"We removed this game:\", removed_game)\n",
       "\n",
       "# Oops, maybe you meant 'Fortnite 2' instead of 'Fortnite'. Let's change it directly!\n",
       "favorite_games[1] = \"Fortnite 2\"\n",
       "print(\"List after changing an item:\", favorite_games)"
      ]
     },
     {
      "cell_type": "markdown",
      "metadata": {},
      "source": [
       "**Try it yourself!** Play around with these methods!  Add more games, remove some, change the order. See what happens!  Remember to run the code cells to see the changes in your list. Experiment and have fun! 🎉"
      ]
     },
     {
      "cell_type": "markdown",
      "metadata": {},
      "source": [
       "## 4. List Operations: Combining and Checking Lists! ➕\n",
       "\n",
       "**Motivation:** What if you have two shopping lists and you want to combine them into one? Or you want to check if you already have milk on your shopping list?\n",
       "\n",
       "**Analogy:**  Think about shopping lists:\n",
       "\n",
       "*   **Combining lists:** You might have a grocery list and a stationery list. You can combine them to make one big shopping list.\n",
       "*   **Checking if something is on the list:** Before adding \"milk\" to your list, you might want to check if it's already there.\n",
       "\n",
       "**Explanation:** Python lets us do operations on lists, like combining them and checking if an item is in a list.\n",
       "\n",
       "Here are some useful list operations:\n",
       "\n",
       "*   **Concatenation (`+`)**:  Joins two lists together to create a new, longer list. (Like merging two shopping lists).\n",
       "*   **Repetition (`*`)**:  Repeats a list multiple times. (Maybe you need to buy the same groceries every week).\n",
       "*   **Membership Testing (`in`, `not in`)**: Checks if an item is present in a list. (Checking if milk is on your shopping list).\n",
       "\n",
       "**Example:** Let's try these operations with game lists!"
      ]
     },
     {
      "cell_type": "code",
      "execution_count": null,
      "metadata": {},
      "outputs": [],
      "source": [
       "# Let's create another list of games\n",
       "adventure_games = [\"Zelda\", \"Uncharted\", \"Tomb Raider\"]\n",
       "\n",
       "# Combine favorite_games and adventure_games using +\n",
       "all_games = favorite_games + adventure_games\n",
       "print(\"Combined list:\", all_games)\n",
       "\n",
       "# Let's repeat the favorite_games list 2 times using *\n",
       "repeated_games = favorite_games * 2\n",
       "print(\"Repeated list:\", repeated_games)\n",
       "\n",
       "# Let's check if 'Minecraft' is in all_games using 'in'\n",
       "is_minecraft_in_list = \"Minecraft\" in all_games\n",
       "print(\"Is 'Minecraft' in the list?\", is_minecraft_in_list)\n",
       "\n",
       "# Let's check if 'Sims' is NOT in all_games using 'not in'\n",
       "is_sims_not_in_list = \"Sims\" not in all_games\n",
       "print(\"Is 'Sims' NOT in the list?\", is_sims_not_in_list)"
      ]
     },
     {
      "cell_type": "markdown",
      "metadata": {},
      "source": [
       "**Try it yourself!**  Create your own lists and experiment with `+`, `*`, `in`, and `not in`.  See what different combinations you can make!  Maybe combine lists of books and movies, or sports and hobbies!  Have fun! 😄"
      ]
     },
     {
      "cell_type": "markdown",
      "metadata": {},
      "source": [
       "## 5. Slicing Lists: Taking a Slice! ✂️\n",
       "\n",
       "**Motivation:** What if you want just a *part* of your list? Like the first two games, or games from the middle of the list?\n",
       "\n",
       "**Analogy:** Imagine you have a sandwich 🥪 and you just want to take a **slice** out of it, not the whole thing. Or think of a movie timeline 🎬 and you want to watch just a **section** of it.\n",
       "\n",
       "**Explanation:** **Slicing** lets you get a sublist (a part) from a list.  You use square brackets `[]` with a colon `:` inside to specify the start and end points of your slice.\n",
       "\n",
       "The format is `[start:end:step]`\n",
       "\n",
       "*   **`start` (optional):**  Index to start the slice from (inclusive, meaning it's included). If you leave it out, it starts from the beginning (index 0).\n",
       "*   **`end` (optional):** Index to end the slice at (exclusive, meaning it's NOT included). If you leave it out, it goes to the end of the list.\n",
       "*   **`step` (optional):**  How many steps to jump between items. If you leave it out, it's 1 (gets every item in the range). A step of 2 would get every other item.\n",
       "\n",
       "**Example:** Let's slice our `all_games` list!"
      ]
     },
     {
      "cell_type": "code",
      "execution_count": null,
      "metadata": {},
      "outputs": [],
      "source": [
       "# Get the first two games (from index 0 up to, but not including, index 2)\n",
       "first_two_games = all_games[0:2]\n",
       "print(\"First two games:\", first_two_games)\n",
       "\n",
       "# Get games from index 2 to 4 (index 4 is not included)\n",
       "middle_games = all_games[2:5] # Note: Index 5 is out of bounds, but slicing works up to the end\n",
       "print(\"Games from index 2 to 4:\", middle_games)\n",
       "\n",
       "# Get every other game from the beginning to the end (step of 2)\n",
       "every_other_game = all_games[::2]\n",
       "print(\"Every other game:\", every_other_game)\n",
       "\n",
       "# Get the last three games (using negative indexing for the start)\n",
       "last_three_games = all_games[-3:]\n",
       "print(\"Last three games:\", last_three_games)"
      ]
     },
     {
      "cell_type": "markdown",
      "metadata": {},
      "source": [
       "**Try it yourself!** Experiment with different start, end, and step values in slicing! Try getting the middle part of your list, or every third item, or even reversing the list using a negative step (`[::-1]`).  Slicing is super powerful, so have fun exploring! 🚀"
      ]
     },
     {
      "cell_type": "markdown",
      "metadata": {},
      "source": [
       "## 6. Advanced List Concepts (Just a Peek! 👀)\n",
       "\n",
       "Lists can do even cooler things! Let's take a quick peek at two advanced ideas – don't worry if they seem a bit tricky at first, you'll get there! 😉"
      ]
     },
     {
      "cell_type": "markdown",
      "metadata": {},
      "source": [
       "### 6.1. List Comprehension: Super Speedy List Maker! 🍬\n",
       "\n",
       "**Analogy:** Imagine you have a big bag of candies, and you only want the red ones. List comprehension is like a super-fast way to pick out only the red candies and put them in a new, smaller bag!\n",
       "\n",
       "**Explanation:** List comprehension is a short and sweet way to create new lists based on existing lists. It's like a shortcut!  It lets you apply a rule or operation to each item in a list and create a new list with the results.\n",
       "\n",
       "**Example:** Let's make a new list with all game names in uppercase!"
      ]
     },
     {
      "cell_type": "code",
      "execution_count": null,
      "metadata": {},
      "outputs": [],
      "source": [
       "# Original list of games\n",
       "print(\"Original games:\", favorite_games)\n",
       "\n",
       "# Create a new list with game names in uppercase using list comprehension\n",
       "uppercase_games = [game.upper() for game in favorite_games]\n",
       "print(\"Uppercase games:\", uppercase_games)"
      ]
     },
     {
      "cell_type": "markdown",
      "metadata": {},
      "source": [
       "**Cool, huh?**  `[game.upper() for game in favorite_games]`  is like saying: \"For each `game` in `favorite_games`, make it uppercase (`game.upper()`) and put it in a new list.\""
      ]
     },
     {
      "cell_type": "markdown",
      "metadata": {},
      "source": [
       "### 6.2. Nested Lists: Lists Inside Lists! 📂\n",
       "\n",
       "**Analogy:** Think of folders on your computer. You can have folders *inside* other folders to organize things.  Nested lists are like lists inside lists! Or like a video game with multiple levels, where each level is a list of challenges.\n",
       "\n",
       "**Explanation:** Nested lists are lists that contain other lists as items.  This is useful for organizing data in rows and columns, like a table, or representing complex structures.\n",
       "\n",
       "**Example:** Let's create a list of game categories, where each category is a list of games!"
      ]
     },
     {
      "cell_type": "code",
      "execution_count": null,
      "metadata": {},
      "outputs": [],
      "source": [
       "# Create nested lists for game categories\n",
       "game_categories = [\n",
       "    [\"Minecraft\", \"Roblox\", \"Fortnite\"],  # Sandbox games\n",
       "    [\"Zelda\", \"Uncharted\", \"Tomb Raider\"], # Adventure games\n",
       "    [\"Overwatch\", \"Valorant\", \"Apex Legends\"] # Shooter games\n",
       "]\n",
       "\n",
       "print(\"Game Categories:\", game_categories)\n",
       "\n",
       "# Accessing an item in a nested list: game_categories[category_index][game_index]\n",
       "# Let's get the first game in the second category (Adventure games)\n",
       "adventure_first_game = game_categories[1][0]\n",
       "print(\"First adventure game:\", adventure_first_game)"
      ]
     },
     {
      "cell_type": "markdown",
      "metadata": {},
      "source": [
       "**Whoa, lists within lists!**  `game_categories[1][0]` means:  \"Go to the second list in `game_categories` (index 1), and then get the first item from *that* list (index 0).\"  It's like navigating folders within folders!"
      ]
     },
     {
      "cell_type": "markdown",
      "metadata": {},
      "source": [
       "## 7. Common Gotchas with Lists: Watch Out! 🤔\n",
       "\n",
       "Just like with anything, there are a few things to watch out for when using lists so you don't get tripped up! Think of these as little \"oops!\" moments that can happen with your to-do list too, like forgetting to update it or losing it!\n"
      ]
     },
     {
      "cell_type": "markdown",
      "metadata": {},
      "source": [
       "### 7.1. Mutability: Lists Can Change! 😲\n",
       "\n",
       "**Analogy:** Imagine you and your friend are sharing the *same* to-do list (maybe it's a digital one). If *you* cross something off, your friend sees it's crossed off too, because it's the *same list*!  Python lists are **mutable**, which means they can be changed after they are created. This can be surprising sometimes!\n",
       "\n",
       "**Explanation:** If you create a list and then make another variable that *also* points to the *same list* (it's not a copy, it's the original list!), then changing the list through *either* variable will affect both.  Let's see an example:"
      ]
     },
     {
      "cell_type": "code",
      "execution_count": null,
      "metadata": {},
      "outputs": [],
      "source": [
       "# Create a list\n",
       "list1 = [1, 2, 3]\n",
       "print(\"list1:\", list1)\n",
       "\n",
       "# Make list2 point to the SAME list as list1 (not a copy!)\n",
       "list2 = list1\n",
       "print(\"list2 (same as list1):\", list2)\n",
       "\n",
       "# Now, let's change list1\n",
       "list1.append(4)\n",
       "print(\"list1 after appending:\", list1)\n",
       "\n",
       "# Look at list2! It changed too, even though we only changed list1!\n",
       "print(\"list2 after changing list1:\", list2)"
      ]
     },
     {
      "cell_type": "markdown",
      "metadata": {},
      "source": [
       "**Whoa!** Both `list1` and `list2` changed because they are actually pointing to the *same list* in memory!  If you want to make a *copy* of a list, you need to do it differently (we won't go into that right now, but just remember this for later! 😉)."
      ]
     },
     {
      "cell_type": "markdown",
      "metadata": {},
      "source": [
       "### 7.2. Indexing Errors: Out of Bounds! 💥\n",
       "\n",
       "**Analogy:** Imagine you have a shopping list with 5 items. If you try to ask for the *10th* item, it doesn't exist! You'll get an error!  Same with Python lists. If you try to access an index that's too big (bigger than the last index in the list), you'll get an `IndexError`.\n",
       "\n",
       "**Explanation:**  `IndexError: list index out of range` means you're trying to access an index that doesn't exist in the list. Remember, indexing starts from 0, and the last index is always one less than the length of the list.\n",
       "\n",
       "**Example:**"
      ]
     },
     {
      "cell_type": "code",
      "execution_count": null,
      "metadata": {},
      "outputs": [
       {
        "ename": "IndexError",
        "evalue": "list index out of range",
        "output_type": "error",
        "traceback": [
        ]
       }
      ],
      "source": [
       "# Create a list with 4 games\n",
       "my_games = [\"Game A\", \"Game B\", \"Game C\", \"Game D\"]\n",
       "print(\"My game list:\", my_games)\n",
       "\n",
       "print(\"Trying to access index 5 (which is too big):\")\n",
       "print(my_games[5]) # This will cause an error!"
      ]
     },
     {
      "cell_type": "markdown",
      "metadata": {},
      "source": [
       "**Error!** See the `IndexError: list index out of range`?  This is Python telling you, \"Hey, that index is not there!\"  Always make sure your index is within the valid range of the list (from 0 to length-1)."
      ]
     },
     {
      "cell_type": "markdown",
      "metadata": {},
      "source": [
       "### 7.3. `append()` vs `insert()`: Adding to the End or Middle? 🤔\n",
       "\n",
       "**Analogy:**  When you add something to your to-do list, do you want to add it to the *bottom* (like just adding it to the end of the list) or at a *specific spot* (like inserting a high-priority task at the very top)?\n",
       "\n",
       "**Explanation:** `append()` always adds to the *end* of the list. `insert(index, item)` lets you add an item at any *specific position* (index) you choose.  Sometimes people get them mixed up!\n",
       "\n",
       "**Example:**"
      ]
     },
     {
      "cell_type": "code",
      "execution_count": null,
      "metadata": {},
      "outputs": [],
      "source": [
       "# Start with an empty list\n",
       "tasks = []\n",
       "\n",
       "# Use append() to add to the end (bottom of the to-do list)\n",
       "tasks.append(\"Do homework\")\n",
       "tasks.append(\"Practice coding\")\n",
       "print(\"Tasks after append():\", tasks)\n",
       "\n",
       "# Use insert() to add at a specific position (top of the to-do list, index 0)\n",
       "tasks.insert(0, \"Brush teeth\")\n",
       "print(\"Tasks after insert():\", tasks)"
      ]
     },
     {
      "cell_type": "markdown",
      "metadata": {},
      "source": [
       "**See the difference?** `append()` always adds to the back, while `insert()` lets you put it wherever you want!"
      ]
     },
     {
      "cell_type": "markdown",
      "metadata": {},
      "source": [
       "## 8. Pros and Cons of Using Lists: When Are Lists Awesome? 👍👎\n",
       "\n",
       "**Analogy:** A to-do list is super helpful for many things, but not for *everything*.  Sometimes you might need a calendar, or sticky notes, or a reminder app instead.  Python lists are also powerful, but they're not always the *perfect* tool for every job. Let's think about when lists are great and when maybe something else is better.\n"
      ]
     },
     {
      "cell_type": "markdown",
      "metadata": {},
      "source": [
       "### 8.1. Pros (Good Things about Lists) 👍\n",
       "\n",
       "*   **Ordered:** Lists keep things in order!  This is great when the order of items matters, like steps in a game walkthrough, or a list of players in a tournament ranked by score.\n",
       "*   **Mutable:**  Easy to change and update! Perfect for data that changes over time, like your to-do list, or game scores that get updated during a game.\n",
       "*   **Versatile:** Lists can store different types of items! You can mix numbers, text (strings), even other lists in one list! (Though usually it's best to keep items in a list of the same type for clarity).\n",
       "*   **Built-in Methods:** Python lists come with lots of helpful built-in functions (like `append`, `sort`, `reverse`, etc.) that make it easy to work with them."
      ]
     },
     {
      "cell_type": "markdown",
      "metadata": {},
      "source": [
       "### 8.2. Cons (Not-So-Good Things, or Things to Consider) 👎\n",
       "\n",
       "*   **Searching can be slow for very large lists:** If you have a *HUGE* list (like thousands or millions of items) and you need to find one specific item, it can take a while for Python to go through the whole list.  It's like searching through a giant phone book to find one name, compared to using a contact app search, which is much faster.\n",
       "*   **Not ideal for numerical operations (for math stuff):**  Python lists are not designed for doing lots of math operations on numbers *super fast*. If you need to do tons of calculations with numbers (like in science or engineering), there are better tools in Python like NumPy arrays (we won't learn about those now, but just know they exist!). Lists are more for general-purpose collections of items."
      ]
     },
     {
      "cell_type": "markdown",
      "metadata": {},
      "source": [
       "## 9. When NOT to Use Lists (Alternatives! 🛍️📕)\n",
       "\n",
       "**Analogy:**  When would you *not* use a to-do list? Maybe if you just need to remember *one* thing – a sticky note might be enough! Or if you need to find a phone number *really quickly* – a contact app (which is like a dictionary, see below) is much faster than searching a long to-do list.  There are other ways to organize data in Python too, that are better for certain situations.\n"
      ]
     },
     {
      "cell_type": "markdown",
      "metadata": {},
      "source": [
       "*   **For fixed collections where order doesn't matter and you need to check if something exists quickly (Sets):** Imagine you're collecting game badges. You just want to know if you *have* a certain badge, and the order of your badges doesn't matter.  For this, Python has **sets**. Sets are like lists, but they only store *unique* items, and checking if something is in a set is *very fast*. Think of a set like a bag of unique game badges – you just care if you *have* the badge, not what order they are in.\n",
       "\n",
       "*   **For key-value pairs (Dictionaries):**  What if you want to store game scores for different players? You want to look up a player's score by their name.  For this, Python has **dictionaries** (often called \"dicts\" for short). Dictionaries are like real-world dictionaries – you look up a word (the \"key\") to find its definition (the \"value\").  Dictionaries are great for storing information where you want to quickly find something based on a name or label. Think of a phone contact list – you look up a person's number by their name (the name is the \"key\", the number is the \"value\").\n",
       "\n",
       "*   **For heavy numerical computations (NumPy Arrays):**  As mentioned before, if you're doing lots of math stuff with numbers, NumPy arrays are much more efficient than lists. They are designed for speed and numerical operations. Think of NumPy arrays as like a super-powered calculator for numbers in Python."
      ]
     },
     {
      "cell_type": "markdown",
      "metadata": {},
      "source": [
       "**Don't worry about sets, dictionaries, or NumPy arrays *too* much right now!**  Just know that they exist and are other ways to organize data in Python. Lists are a great starting point and are super useful for tons of things! 👍"
      ]
     },
     {
      "cell_type": "markdown",
      "metadata": {},
      "source": [
       "# 🎉 Congratulations! You've learned a LOT about Python Lists! 🎉\n",
       "\n",
       "You now know what lists are, how to create them, access items, modify them, do operations, slice them, and even a bit about advanced concepts and when to watch out for gotchas!  You're on your way to becoming a Python list master! 🚀\n",
       "\n",
       "Now, let's put your new skills to the test with a fun exercise! 👇"
      ]
     },
     {
      "cell_type": "markdown",
      "metadata": {},
      "source": [
       "## Exercise: Gaming Tournament Organizer! 🏆\n",
       "\n",
       "Imagine you're organizing a super cool gaming tournament! You need to keep track of players, their scores, and rank them. Let's use Python lists to help you out!\n",
       "\n",
       "**Tasks:**\n",
       "\n",
       "1.  **Create a list of player names.** Start with these players: \"Alice\", \"Bob\", \"Charlie\", \"David\". Name your list `player_names`.\n",
       "2.  **Add new players.**  Two more players want to join: \"Eve\" and \"Frank\". Add them to the `player_names` list using `append()`.\n",
       "3.  **Remove a player.** Oh no! Charlie can't make it. Remove \"Charlie\" from the `player_names` list using `remove()`.\n",
       "4.  **Assign initial scores.**  Create a new list called `player_scores`.  Initially, all players have a score of 0.  Make sure the `player_scores` list has the same number of items as `player_names` and all scores are 0. (Hint: You can use `*` for list repetition to create a list of zeros).\n",
       "5.  **Update scores.** After the first round, here are the scores:\n",
       "    *   Alice: 15\n",
       "    *   Bob: 22\n",
       "    *   David: 18\n",
       "    *   Eve: 25\n",
       "    Update the `player_scores` list to reflect these scores.  Remember to match the scores to the correct player in the `player_names` list (based on their position).\n",
       "6.  **Find the player with the highest score.** Find the highest score in the `player_scores` list using the `max()` function. Then, find the *index* of that highest score using the `index()` method of the list. Use this index to find the name of the player with the highest score from the `player_names` list. Print out who the winner is!\n",
       "7.  **Sort players by score.** Create a *new* list of player names called `ranked_players`. Sort the players based on their scores in *descending* order (highest score first).  This is a bit trickier! You might need to think about how to keep the player names and scores matched up while sorting. (Hint: You could try sorting the `player_scores` list and then figuring out how to rearrange `player_names` to match, or you could explore more advanced sorting techniques later. For now, just try to think about the logic!). **For a simpler version, just try to sort the `player_scores` list in descending order and print it.**\n",
       "8.  **Print the ranked list.** Print out the `ranked_players` list (or the sorted `player_scores` list if you did the simpler version of task 7).\n",
       "9.  **(Bonus - Gotcha Exercise): Mutability in action!** Create `player_list1 = player_names` and `player_list2 = player_names`. Then, remove \"Bob\" from `player_list1`. Print `player_list1` and `player_list2`. What do you notice? Explain why this happens.\n",
       "10. **(Bonus - When Not to Use Lists Thinking):** Imagine you wanted to store each player's name *and* their score together, and you wanted to easily look up a player's score by their name. Would lists be the *best* way to organize this data? Why or why not? What other Python data structure (that we briefly mentioned) might be better for this? (Just think about it, you don't need to code this part yet!).\n",
       "\n",
       "**Code cells are ready for you below! Good luck, and have fun organizing your gaming tournament!** 🎮🏆"
      ]
     },
     {
      "cell_type": "code",
      "execution_count": null,
      "metadata": {},
      "outputs": [],
      "source": [
       "# 1. Create a list of player names\n",
       "# Your code here 👇\n",
       "player_names = [\"Alice\", \"Bob\", \"Charlie\", \"David\"]\n",
       "print(\"Initial player names:\", player_names)\n"
      ]
     },
     {
      "cell_type": "code",
      "execution_count": null,
      "metadata": {},
      "outputs": [],
      "source": [
       "# 2. Add new players\n",
       "# Your code here 👇\n",
       "player_names.append(\"Eve\")\n",
       "player_names.append(\"Frank\")\n",
       "print(\"Player names after adding Eve and Frank:\", player_names)"
      ]
     },
     {
      "cell_type": "code",
      "execution_count": null,
      "metadata": {},
      "outputs": [],
      "source": [
       "# 3. Remove a player\n",
       "# Your code here 👇\n",
       "player_names.remove(\"Charlie\")\n",
       "print(\"Player names after removing Charlie:\", player_names)"
      ]
     },
     {
      "cell_type": [],
      "metadata": {},
      "outputs": [],
      "source": [
       "# 4. Assign initial scores\n",
       "# Your code here 👇\n",
       "player_scores = [0] * len(player_names)\n",
       "print(\"Initial player scores:\", player_scores)"
      ]
     },
     {
      "cell_type": "code",
      "execution_count": null,
      "metadata": {},
      "outputs": [],
      "source": [
       "# 5. Update scores\n",
       "# Your code here 👇\n",
       "player_scores[0] = 15 # Alice\n",
       "player_scores[1] = 22 # Bob\n",
       "player_scores[2] = 18 # David\n",
       "player_scores[3] = 25 # Eve\n",
       "print(\"Player scores after round 1:\", player_scores)"
      ]
     },
     {
      "cell_type": "code",
      "execution_count": null,
      "metadata": {},
      "outputs": [],
      "source": [
       "# 6. Find the player with the highest score\n",
       "# Your code here 👇\n",
       "highest_score = max(player_scores)\n",
       "highest_score_index = player_scores.index(highest_score)\n",
       "winner_name = player_names[highest_score_index]\n",
       "print(\"The winner is:\", winner_name, \"with a score of\", highest_score, \"! 🏆\")"
      ]
     },
     {
      "cell_type": "code",
      "execution_count": null,
      "metadata": {},
      "outputs": [],
      "source": [
       "# 7. Sort players by score (Simpler version: just sort scores in descending order)\n",
       "# Your code here 👇\n",
       "ranked_scores = sorted(player_scores, reverse=True)\n",
       "print(\"Ranked scores (descending):\", ranked_scores)\n",
       "\n",
       "# 8. Print the ranked list (using sorted scores for simpler version)\n",
       "# Your code here 👇\n",
       "print(\"Ranked Scores:\")\n",
       "for score in ranked_scores:\n",
       "    print(\"- Score:\", score)"
      ]
     },
     {
      "cell_type": "code",
      "execution_count": null,
      "metadata": {},
      "outputs": [],
      "source": [
       "# 9. (Bonus - Gotcha Exercise): Mutability in action!\n",
       "# Your code here 👇\n",
       "player_list1 = player_names\n",
       "player_list2 = player_names\n",
       "player_list1.remove(\"Bob\")\n",
       "print(\"player_list1 after removing Bob:\", player_list1)\n",
       "print(\"player_list2 after removing Bob from player_list1:\", player_list2)\n",
       "# Explanation:\n",
       "# Both lists change because player_list1 and player_list2 are just two names for the SAME list in memory.\n",
       "# Changing the list through one name changes it for both!"
      ]
     },
     {
      "cell_type": "markdown",
      "metadata": {},
      "source": [
       "# 10. (Bonus - When Not to Use Lists Thinking)\n",
       "# Your thoughts here 👇\n",
       "If we want to store player names and scores together AND easily look up scores by name,\n",
       "lists are not the BEST choice because we would have to search through the list to find a name.\n",
       "A better data structure for this would be a DICTIONARY (like a real dictionary!).\n",
       "In a dictionary, we can use the player's name as the 'key' and their score as the 'value'.\n",
       "Then we can quickly look up a score by name, just like looking up a definition by word in a dictionary!\n",
       "Dictionaries are designed for fast lookups using keys."
      ]
     },
     {
      "cell_type": "markdown",
      "metadata": {},
      "source": [
       "# 🎉 Great job completing the exercise! 🎉\n",
       "\n",
       "You've successfully used Python lists to organize your gaming tournament! You're getting really good at this! Keep practicing and exploring, and you'll become a Python coding superstar in no time! 🌟\n",
       "\n",
       "Keep coding and keep having fun!  See you in the next lesson! 👋🚀"
      ]
     }
    ],
    "metadata": {
     "kernelspec": {
      "display_name": "Python 3",
      "language": "python",
      "name": "python3"
     },
     "language_info": {
      "codemirror_mode": {
       "name": "ipython",
       "version": 3
      },
      "file_extension": ".py",
      "mimetype": "text/x-python",
      "name": "python",
      "nbconvert_exporter": "python",
      "pygments_lexer": "ipython3",
      "version": "3.7.6"
     }
    },
    "nbformat": 4,
    "nbformat_minor": 4
   }