{
    "cells": [
     {
      "cell_type": "markdown",
      "metadata": {},
      "source": [
       "# Python Sets: Your Magical Collection of Unique Items! ✨ 🎒\n",
       "\n",
       "Hey there, coding superstar! 👋 Remember how we learned about lists (like your to-do list 📝) and dictionaries (like your game character's stats 🎮)? Well, get ready to meet **sets**! Sets are like magical bags or collections, but with a super cool twist: they only hold **unique** items! Imagine it like your collection of awesome badges or trading cards – you only want one of each kind, right? Let's dive in and see how sets work in Python! 🎉"
      ]
     },
     {
      "cell_type": "markdown",
      "metadata": {},
      "source": [
       "## 1. What is a Set? 🤔 (Like a Bag of Unique Badges! 🏅)\n",
       "\n",
       "Think about your collection of badges, maybe from games, sports, or cool events. You probably don't want to have the *same* badge twice, right? You want a collection of *unique* badges. That's exactly what a Python set is! \n",
       "\n",
       "**Motivation:**  Why do we need sets? Sometimes in programming, we only care about having a collection of *distinct* things, and the order doesn't matter.  For example, if you're making a list of all the game genres you like, you wouldn't want to list 'Action' twice, even if you *really* like action games! Sets help us keep things unique and organized when order isn't important.\n",
       "\n",
       "**Analogy:** Imagine you have a special bag for your badges.  If you try to put a badge in that's already in the bag, nothing happens! The bag only keeps *one* of each kind of badge.  It's like a super picky bag that only accepts unique items.  Sets are like that bag for your Python code!  Also, the order of badges in your bag doesn't really matter, just what badges you have - sets are similar, they are **unordered**.\n",
       "\n",
       "**Explanation:** A Python set is an **unordered collection of unique items**.  'Unordered' means the order you put things in doesn't matter, and Python might even show them to you in a different order sometimes. 'Unique' is the key – no duplicates allowed!  \n",
       "\n",
       "We can create a set using curly braces `{}` or using the `set()` function. Let's see how!"
      ]
     },
     {
      "cell_type": "code",
      "execution_count": null,
      "metadata": {},
      "outputs": [],
      "source": [
       "# Creating a set of game genres you like using curly braces {}\n",
       "my_genres = {\"Action\", \"Adventure\", \"RPG\", \"Strategy\"}\n",
       "print(my_genres)\n",
       "print(type(my_genres))\n",
       "\n",
       "# Creating a set from a list using set()\n",
       "my_colors_list = [\"Red\", \"Blue\", \"Green\", \"Red\", \"Blue\"]\n",
       "my_colors_set = set(my_colors_list)\n",
       "print(my_colors_set) # Notice the duplicates are gone and the order might be different!"
      ]
     },
     {
      "cell_type": "markdown",
      "metadata": {},
      "source": [
       "**Cool, right?**  See how when we created a set from the list `my_colors_list`, the duplicate colors \"Red\" and \"Blue\" disappeared in `my_colors_set`?  And the order might have changed! Sets are all about uniqueness and not caring about order."
      ]
     },
     {
      "cell_type": "markdown",
      "metadata": {},
      "source": [
       "## 2. Creating Sets and Adding/Removing Items 🛠️ (Building Your Badge Collection!)\n",
       "\n",
       "Now that we have our magical set bag, let's learn how to add more badges (items) to it and maybe take some out!\n",
       "\n",
       "**Motivation:**  Just like your badge collection grows over time, we need to be able to add new items to our sets in Python.  And sometimes, we might want to remove items too!\n",
       "\n",
       "**Analogy:**  Imagine you got a new awesome badge! You want to add it to your badge bag.  If you accidentally try to add a badge you already have, your magical bag is smart enough to just ignore it – it keeps only unique badges!  You can also trade away a badge you don't want anymore, so you need to be able to remove badges too.\n",
       "\n",
       "**Explanation:**\n",
       "*   We can use the `add()` method to add a *single* item to a set.\n",
       "*   If you want to add *multiple* items at once (maybe from a list of new badges), you can use the `update()` method.\n",
       "*   To remove an item, we can use `remove()` or `discard()`.  The difference is important: `remove()` will complain (give you an error) if you try to remove something that's not even in the set, while `discard()` will just quietly do nothing if the item isn't there.  It's like trying to remove a badge from your bag that you never had - `remove()` gets confused, but `discard()` just shrugs and moves on! 😉"
      ]
     },
     {
      "cell_type": "code",
      "execution_count": null,
      "metadata": {},
      "outputs": [],
      "source": [
       "# Let's create a set of favorite game characters\n",
       "favorite_characters = {\"Mario\", \"Luigi\", \"Princess Peach\"}\n",
       "print(\"Initial set of favorite characters:\", favorite_characters)\n",
       "\n",
       "# Adding a new character using add()\n",
       "favorite_characters.add(\"Yoshi\")\n",
       "print(\"After adding Yoshi:\", favorite_characters)\n",
       "\n",
       "# Trying to add a character that's already in the set (nothing will happen!)\n",
       "favorite_characters.add(\"Mario\")\n",
       "print(\"After trying to add Mario again:\", favorite_characters) # Still unique!\n",
       "\n",
       "# Adding multiple characters using update() from a list\n",
       "new_characters_list = [\"Bowser\", \"Toad\", \"Luigi\"] # Luigi is already there, let's see!\n",
       "favorite_characters.update(new_characters_list)\n",
       "print(\"After updating with new characters:\", favorite_characters) # Luigi only appears once!\n",
       "\n",
       "# Removing a character using remove()\n",
       "favorite_characters.remove(\"Toad\")\n",
       "print(\"After removing Toad:\", favorite_characters)\n",
       "\n",
       "# Trying to remove a character that's NOT in the set using remove() - will cause an error!\n",
       "# favorite_characters.remove(\"Wario\") # Uncomment this line to see the error!\n",
       "\n",
       "# Removing a character using discard() - safer if you're not sure if it's there\n",
       "favorite_characters.discard(\"Bowser\")\n",
       "print(\"After discarding Bowser:\", favorite_characters)\n",
       "favorite_characters.discard(\"Wario\") # Wario is not there, but no error!\n",
       "print(\"After discarding Wario (who wasn't there):\", favorite_characters) # No error, set unchanged"
      ]
     },
     {
      "cell_type": "markdown",
      "metadata": {},
      "source": [
       "**Awesome!** You're becoming a set-building pro! Notice how `update()` added multiple items, and even though \"Luigi\" was in the `new_characters_list`, it didn't create a duplicate in the set.  Also, remember to be careful with `remove()` if you're not sure if the item is in the set – `discard()` is often safer!"
      ]
     },
     {
      "cell_type": "markdown",
      "metadata": {},
      "source": [
       "## 3. Set Operations - Combining and Comparing Sets 🤝 (Finding Shared Interests!)\n",
       "\n",
       "Sets are not just for storing unique items; they're also super useful for comparing and combining collections! Let's see how we can do cool things like finding common badges between friends or combining badge collections.\n",
       "\n",
       "**Motivation:** Imagine you want to know which game genres you and your friend both like, or if you want to combine all your badges with your friend's to see the total collection of unique badges you both have together. Set operations are perfect for these kinds of tasks!\n",
       "\n",
       "**Analogies:**\n",
       "*   **Union ( `|` or `union()` ):** Imagine you and your friend put all your badge collections together in one big pile, and then you remove any duplicates. The result is the **union** of your collections - all the unique badges from both of you.\n",
       "*   **Intersection ( `&` or `intersection()` ):**  Think about finding the badges that you *and* your friend *both* have in your collections. These are the **common** badges, and that's the **intersection**.\n",
       "*   **Difference ( `-` or `difference()` ):** Let's say you want to know which badges you have that your friend *doesn't* have. That's the **difference** between your collection and your friend's collection.\n",
       "\n",
       "**Explanation:**  Python sets have special operations to do these cool combinations and comparisons. We can use symbols like `|`, `&`, `-` or methods like `union()`, `intersection()`, `difference()`."
      ]
     },
     {
      "cell_type": "code",
      "execution_count": null,
      "metadata": {},
      "outputs": [],
      "source": [
       "# Game genres liked by you and your friend\n",
       "my_liked_genres = {\"Action\", \"Adventure\", \"RPG\", \"Strategy\"}\n",
       "friend_liked_genres = {\"Adventure\", \"Simulation\", \"RPG\", \"Puzzle\"}\n",
       "\n",
       "print(\"My liked genres:\", my_liked_genres)\n",
       "print(\"Friend's liked genres:\", friend_liked_genres)\n",
       "\n",
       "# 1. Union: All genres liked by either you or your friend (or both) - combined unique genres\n",
       "all_liked_genres = my_liked_genres | friend_liked_genres # Using the | operator\n",
       "print(\"Union (all liked genres using |):\", all_liked_genres)\n",
       "all_liked_genres_method = my_liked_genres.union(friend_liked_genres) # Using the union() method\n",
       "print(\"Union (all liked genres using union()):\", all_liked_genres_method)\n",
       "\n",
       "# 2. Intersection: Genres liked by both you AND your friend - common genres\n",
       "common_genres = my_liked_genres & friend_liked_genres # Using the & operator\n",
       "print(\"Intersection (common genres using &):\", common_genres)\n",
       "common_genres_method = my_liked_genres.intersection(friend_liked_genres) # Using intersection() method\n",
       "print(\"Intersection (common genres using intersection()):\", common_genres_method)\n",
       "\n",
       "# 3. Difference: Genres you like but your friend doesn't - your unique genres compared to your friend\n",
       "my_unique_genres = my_liked_genres - friend_liked_genres # Using the - operator\n",
       "print(\"Difference (my unique genres using -):\", my_unique_genres)\n",
       "my_unique_genres_method = my_liked_genres.difference(friend_liked_genres) # Using difference() method\n",
       "print(\"Difference (my unique genres using difference()):\", my_unique_genres_method)\n",
       "\n",
       "# There's also Symmetric Difference (^) which is genres liked by only one of you (not both), but let's focus on these three for now! 😊"
      ]
     },
     {
      "cell_type": "markdown",
      "metadata": {},
      "source": [
       "**Amazing!** Now you can find out all sorts of cool things by combining and comparing sets!  Union helps you see the total collection, intersection finds what's in common, and difference shows you what's unique to each set.  These are super powerful tools!"
      ]
     },
     {
      "cell_type": "markdown",
      "metadata": {},
      "source": [
       "## 4. Set Methods - Checking Relationships 🕵️‍♀️ (Are All Your Badges Rare?)\n",
       "\n",
       "Sometimes we want to check if there's a special relationship between sets. For example, are all the badges in your collection also in a super rare badge set? Or are your badge collection and your friend's collection completely separate?\n",
       "\n",
       "**Motivation:**  We often need to know if one collection is part of another, or if two collections have nothing in common.  Set methods help us answer these questions easily.\n",
       "\n",
       "**Analogies:**\n",
       "*   **Subset (`issubset()`):**  Imagine you have a set of your favorite badges. And there's a special \"Rare Badge\" set. You can check if *all* of your favorite badges are also in the \"Rare Badge\" set. If they are, then your favorite badge set is a **subset** of the rare badge set.\n",
       "*   **Superset (`issuperset()`):**  Thinking about the same \"Rare Badge\" set. You can check if the \"Rare Badge\" set contains *all* of your favorite badges. If it does, then the \"Rare Badge\" set is a **superset** of your favorite badge set.\n",
       "*   **Disjoint (`isdisjoint()`):**  Imagine your badge collection and your friend's badge collection. If they have *no* badges in common at all, they are **disjoint** collections.  Like if you collect game badges and your friend collects sports badges - they might be totally separate.\n",
       "\n",
       "**Explanation:** Python sets have methods to check these relationships: `issubset()`, `issuperset()`, and `isdisjoint()`."
      ]
     },
     {
      "cell_type": "code",
      "execution_count": null,
      "metadata": {},
      "outputs": [],
      "source": [
       "# Let's define a set of 'rare' game genres\n",
       "rare_genres = {\"Strategy\", \"Simulation\", \"Puzzle\"}\n",
       "\n",
       "print(\"My liked genres:\", my_liked_genres)\n",
       "print(\"Rare genres:\", rare_genres)\n",
       "\n",
       "# 1. Is Subset? - Are all my liked genres also in the rare genres set?\n",
       "is_subset = my_liked_genres.issubset(rare_genres)\n",
       "print(\"Is my_liked_genres a subset of rare_genres?\", is_subset) # False, because 'Action', 'Adventure', 'RPG' are not in rare_genres\n",
       "\n",
       "my_subset_genres = {\"Strategy\", \"Puzzle\"} # Let's create a subset of rare genres\n",
       "is_subset_true = my_subset_genres.issubset(rare_genres)\n",
       "print(\"Is my_subset_genres a subset of rare_genres?\", is_subset_true) # True, because both 'Strategy' and 'Puzzle' are in rare_genres\n",
       "\n",
       "# 2. Is Superset? - Does the rare genres set contain all of my liked genres?\n",
       "is_superset = rare_genres.issuperset(my_liked_genres)\n",
       "print(\"Is rare_genres a superset of my_liked_genres?\", is_superset) # False, because rare_genres doesn't contain 'Action', 'Adventure', 'RPG'\n",
       "\n",
       "is_superset_true = rare_genres.issuperset(my_subset_genres)\n",
       "print(\"Is rare_genres a superset of my_subset_genres?\", is_superset_true) # True, because rare_genres contains both 'Strategy' and 'Puzzle'\n",
       "\n",
       "# 3. Is Disjoint? - Do my liked genres and rare genres have nothing in common?\n",
       "is_disjoint = my_liked_genres.isdisjoint(rare_genres)\n",
       "print(\"Are my_liked_genres and rare_genres disjoint?\", is_disjoint) # False, because they have 'Strategy' and 'Puzzle' in common (and maybe 'Simulation' if we had included it in my_liked_genres)\n",
       "\n",
       "disliked_genres = {\"Sports\", \"Racing\"} # Genres I don't like at all\n",
       "is_disjoint_true = my_liked_genres.isdisjoint(disliked_genres)\n",
       "print(\"Are my_liked_genres and disliked_genres disjoint?\", is_disjoint_true) # True, because they have no genres in common"
      ]
     },
     {
      "cell_type": "markdown",
      "metadata": {},
      "source": [
       "**Fantastic!** You're becoming a set relationship expert!  `issubset()`, `issuperset()`, and `isdisjoint()` are great for understanding how sets relate to each other.  This is super useful for organizing and comparing collections of data!"
      ]
     },
     {
      "cell_type": "markdown",
      "metadata": {},
      "source": [
       "## 5. Set Comprehension - A Cool Trick! ✨ (Shiny Badge Set!)\n",
       "\n",
       "Remember list comprehensions? They were a super quick way to create lists based on a rule! Sets have something similar called **set comprehension**! It's a concise way to create sets based on rules. Think of it like quickly making a set of only the \"shiny\" badges from a mixed bag of badges.\n",
       "\n",
       "**Analogy:** Imagine you have a bag of badges, some are shiny and some are not.  You want to quickly create a *new* set containing *only* the shiny badges. Set comprehension is like a super-fast way to pick out and collect just the shiny ones into a new set.\n",
       "\n",
       "**Explanation:** Set comprehension looks very similar to list comprehension, but it uses curly braces `{}` instead of square brackets `[]` to create a set.  Let's see an example!"
      ]
     },
     {
      "cell_type": "code",
      "execution_count": null,
      "metadata": {},
      "outputs": [],
      "source": [
       "# Original set of game genres (lowercase)\n",
       "genres_lowercase = {\"action\", \"adventure\", \"rpg\", \"strategy\"}\n",
       "print(\"Original genres (lowercase):\", genres_lowercase)\n",
       "\n",
       "# Create a new set with uppercase versions of the genres using set comprehension\n",
       "genres_uppercase = {genre.upper() for genre in genres_lowercase}\n",
       "print(\"Genres in uppercase (using set comprehension):\", genres_uppercase)"
      ]
     },
     {
      "cell_type": "markdown",
      "metadata": {},
      "source": [
       "**Woah, magic!**  See how quickly we created `genres_uppercase` from `genres_lowercase` using set comprehension? It's a super handy trick for creating sets based on existing collections!"
      ]
     },
     {
      "cell_type": "markdown",
      "metadata": {},
      "source": [
       "## 6. Common Gotchas with Sets ⚠️ (Badge Collection Mishaps!)\n",
       "\n",
       "Just like there might be little things to watch out for when managing a real badge collection (like losing a badge or accidentally getting a duplicate you thought was unique), there are a few \"gotchas\" with Python sets. Let's learn about them so you can become a set master!\n",
       "\n",
       "**Analogy:** Think about common badge collection problems:\n",
       "*   **Order doesn't matter:** The order you put badges in your bag doesn't change your collection.\n",
       "*   **Unique badges only:** If you get a duplicate badge, it doesn't really add to your *unique* collection.\n",
       "*   **What kind of badges can you collect?:**  You usually collect physical badges, not bags of badges inside bags! (Okay, maybe a bit silly, but it relates to what we can put *inside* sets).\n",
       "\n",
       "**Explanation of Gotchas in Python Sets:**\n",
       "*   **Sets are Unordered:**  Remember, sets don't keep track of the order of items. If you need things in a specific order, sets are not the right choice (lists are better for that!).\n",
       "*   **Sets only store Immutable Items:**  This is a bit of a technical term, but it means you can only put things in sets that cannot be changed after they are created.  Things like numbers, strings, and tuples are okay. But you **cannot** directly put lists or dictionaries inside sets because lists and dictionaries *can* be changed (they are 'mutable').  It's like you can put individual badges (strings, numbers) in your bag, but not another whole bag of badges *inside* your badge bag directly. \n",
       "*   **No Duplicate Items:**  We know this already, but it's worth repeating! If you try to add an item that's already in the set, nothing changes. The set remains the same, with only unique items."
      ]
     },
     {
      "cell_type": "code",
      "execution_count": null,
      "metadata": {},
      "outputs": [],
      "source": [
       "# Example of unordered nature (you might see different order each time)\n",
       "unordered_set = {\"Z\", \"A\", \"B\", \"Y\"}\n",
       "print(\"Unordered set:\", unordered_set) # Order might be different from input\n",
       "\n",
       "# Example of trying to add a list to a set - will cause an error!\n",
       "# my_set_with_list = {\"apple\", [\"banana\", \"cherry\"]} # Uncomment to see the error!\n",
       "# Sets can't contain lists directly because lists are mutable\n",
       "\n",
       "# But tuples are immutable, so you CAN put tuples in sets\n",
       "my_set_with_tuple = {\"apple\", (\"banana\", \"cherry\")}\n",
       "print(\"Set with a tuple:\", my_set_with_tuple) # Tuples are okay!\n",
       "\n",
       "# Trying to add a duplicate item - no effect\n",
       "unique_numbers = {1, 2, 3}\n",
       "print(\"Initial set:\", unique_numbers)\n",
       "unique_numbers.add(2) # Try to add 2 again\n",
       "print(\"After adding 2 again:\", unique_numbers) # Still unique, no change!"
      ]
     },
     {
      "cell_type": "markdown",
      "metadata": {},
      "source": [
       "**Good to know these gotchas!**  Just remember: order doesn't matter, only immutable items allowed inside, and sets are all about uniqueness!"
      ]
     },
     {
      "cell_type": "markdown",
      "metadata": {},
      "source": [
       "## 7. Pros and Cons of Using Sets 👍 👎 (When is a Badge Collection Helpful?)\n",
       "\n",
       "Badge collections are awesome for showing off unique badges and comparing collections, but they aren't perfect for *everything*. Sometimes you need to list badges in a specific order, or keep track of *how many* of each badge you have. It's the same with Python sets! They are super useful for certain things, but not for everything. Let's look at the pros and cons.\n",
       "\n",
       "**Analogy:** When is a badge collection *really* helpful and when might you need something else?\n",
       "*   **Good for:** Showing off unique badges, quickly checking if you have a certain badge, comparing your collection to a friend's.\n",
       "*   **Not so good for:**  Listing badges in the order you got them, counting how many of each badge you have (if you somehow had duplicates in real life), or storing details *about* each badge (like when you got it, where from, etc.).\n",
       "\n",
       "**Pros of Python Sets:**\n",
       "*   **Ensures Uniqueness:** Automatically makes sure there are no duplicate items. Perfect for when you only care about unique things, like game genres, unique usernames, etc.\n",
       "*   **Fast Membership Testing:**  It's super quick to check if an item is in a set using the `in` operator (like quickly checking if you have a specific badge in your collection). Sets are designed to be very fast at this!\n",
       "*   **Efficient Set Operations:** Set operations like union, intersection, difference are very fast and efficient, especially for large collections. Great for comparing and combining sets quickly.\n",
       "\n",
       "**Cons of Python Sets:**\n",
       "*   **Unordered:** Sets don't remember the order of items. If order is important, sets are not the right choice.\n",
       "*   **Items Must Be Immutable:** You can only store immutable items in sets (like strings, numbers, tuples). You can't directly store lists or dictionaries.\n",
       "*   **Less Versatile for General Data Storage Compared to Lists/Dictionaries:** Sets are specialized for uniqueness and set operations. Lists and dictionaries are often more flexible for general-purpose data storage if you need order or key-value pairs."
      ]
     },
     {
      "cell_type": "code",
      "execution_count": null,
      "metadata": {},
      "outputs": [],
      "source": [
       "# Example of fast membership testing (checking if an item is in a set)\n",
       "large_genre_set = {\"Action\", \"Adventure\", \"RPG\", \"Strategy\", \"Simulation\", \"Puzzle\", \"Sports\", \"Racing\", \"Fighting\", \"Platformer\", \"Shooter\", \"MMO\", \"Indie\", \"Horror\", \"Comedy\", \"Drama\", \"Mystery\", \"Sci-Fi\", \"Fantasy\"} # A large set\n",
       "\n",
       "is_action_genre_in_set = \"Action\" in large_genre_set # Super fast check!\n",
       "print(\"Is 'Action' in large_genre_set?\", is_action_genre_in_set)\n",
       "\n",
       "# Comparing speed with lists (sets are usually much faster for large collections)\n",
       "large_genre_list = list(large_genre_set) # Convert set to list\n",
       "\n",
       "is_action_genre_in_list = \"Action\" in large_genre_list # Still works, but might be slower for very large lists\n",
       "print(\"Is 'Action' in large_genre_list?\", is_action_genre_in_list)\n",
       "\n",
       "# For small collections, the speed difference might not be noticeable, but for huge collections, sets are much faster for membership testing!"
      ]
     },
     {
      "cell_type": "markdown",
      "metadata": {},
      "source": [
       "**Awesome!** You now know when sets shine and when they might not be the best tool for the job.  Choosing the right tool (like sets, lists, dictionaries) is a big part of being a great programmer!"
      ]
     },
     {
      "cell_type": "markdown",
      "metadata": {},
      "source": [
       "## 8. When NOT to Use Sets 🙅‍♀️ (When a Badge Collection Isn't the Best!)\n",
       "\n",
       "We talked about the pros of sets, but it's also important to know when to use something else!  Just like a badge collection isn't always the best way to organize game info, Python sets are not always the perfect data structure.\n",
       "\n",
       "**Analogy:**  When would you *not* use a badge collection analogy for game data?  Maybe when:\n",
       "*   You need to list game characters in the order they appear in a story (order matters!).\n",
       "*   You need to store character stats like health, power, etc. (you need key-value pairs).\n",
       "*   You need to keep track of *how many* of each game item you have (duplicates are important!).\n",
       "\n",
       "**When to NOT use sets in Python (and use lists or dictionaries instead):**\n",
       "*   **When Order Matters Significantly (Use Lists):** If the order of items is crucial, like a sequence of game levels, steps in a recipe, or a playlist of songs, lists are the way to go. Sets are unordered, so they won't remember the order you put things in.\n",
       "*   **When you need to associate values with keys (Use Dictionaries):** If you need to store information as key-value pairs, like game character names and their scores, item names and their descriptions, or player usernames and their high scores, dictionaries are much better. Sets just store individual items, not pairs of information.\n",
       "*   **When you need to store duplicate items (Use Lists):** If you *need* to keep track of duplicates, like a shopping list where you might have multiple of the same item, or a list of scores where the same score might appear many times, sets are not suitable because they automatically remove duplicates. Lists can store duplicates just fine.\n"
      ]
     },
     {
      "cell_type": "markdown",
      "metadata": {},
      "source": [
       "**You're a set whiz now!** 🎉 You understand what sets are, how to use them, their strengths, weaknesses, and when to use them (or not!).  Now, let's put your set skills to the test with a fun exercise!"
      ]
     },
     {
      "cell_type": "markdown",
      "metadata": {},
      "source": [
       "## Exercise: Your Digital Card Collection! 🃏\n",
       "\n",
       "Imagine you're managing a digital collection of awesome trading cards or game badges! You want to organize your unique collection and compare it with your friend's collection using Python sets. Let's do it!\n",
       "\n",
       "**Tasks:**\n",
       "\n",
       "1.  **Create My Card Collection:** Create a Python set called `my_card_collection` and add at least 5 unique card names (strings) to it. These could be names of game characters, creatures, items, etc. Print your set to see your collection.\n",
       "2.  **Create Friend's Card Collection:** Create another set called `friends_card_collection` with at least 5 different (and maybe some overlapping) unique card names. Print your friend's collection.\n",
       "3.  **Add New Cards:** You just got three new awesome cards! Add these new card names to your `my_card_collection` using the appropriate set method. Print your updated collection.\n",
       "4.  **Try to Add a Duplicate Card:** Uh oh, you accidentally tried to add a card to your `my_card_collection` that you already have! Try to add a card that's already in your set and print your collection again. Did anything change? Why or why not?\n",
       "5.  **Find Common Cards (Intersection):** Find the cards that are in *both* `my_card_collection` and `friends_card_collection`. Print the set of common cards. What set operation should you use?\n",
       "6.  **Combine All Unique Cards (Union):** Combine all the unique cards from both `my_card_collection` and `friends_card_collection` into a new set called `all_unique_cards`. Print `all_unique_cards`. What set operation should you use?\n",
       "7.  **Find My Unique Cards (Difference):** Find the cards that are in `my_card_collection` but *not* in `friends_card_collection`. Print this set. What set operation should you use?\n",
       "8.  **Check if My Collection is a Subset of a Complete Set:** Let's say there's a \"Complete Card Set\" that contains all possible cards in the game. Create a set called `complete_card_set` with at least 10 card names, making sure it includes all the cards in your `my_card_collection`. Then, check if `my_card_collection` is a subset of `complete_card_set` using the appropriate set method. Print the result (True or False).\n",
       "9.  **(Bonus - Gotcha Exercise):** Try to add a list of card names (e.g., `[\"Card X\", \"Card Y\"]`) directly to your `my_card_collection` using `add()`. What happens? Why? (Hint: Remember the \"immutable items\" gotcha!). Explain in a comment in your code.\n",
       "10. **(Bonus - When Not to Use Sets Thinking):** Imagine you also want to keep track of *when* you got each card in your `my_card_collection` (e.g., \"Card A: Got on Monday\", \"Card B: Got on Tuesday\", etc.). Would a set be the best data structure for this? Why or why not? If not, what would be a better choice (list or dictionary)? Explain your answer in a markdown cell.\n",
       "\n",
       "**Have fun playing with sets and your digital card collection! You got this!** 💪😊"
      ]
     },
     {
      "cell_type": "code",
      "execution_count": null,
      "metadata": {},
      "outputs": [],
      "source": [
       "# Exercise Solutions - Let's start coding your card collection!\n",
       "\n",
       "# 1. Create My Card Collection\n",
       "my_card_collection = {\"Dragon Warrior\", \"Magic Archer\", \"Forest Guardian\", \"Shadow Assassin\", \"Iron Golem\"}\n",
       "print(\"My Card Collection:\", my_card_collection)\n",
       "\n",
       "# 2. Create Friend's Card Collection\n",
       "friends_card_collection = {\"Mystic Unicorn\", \"Dragon Warrior\", \"Phoenix Rider\", \"Ocean Siren\", \"Shadow Assassin\"}\n",
       "print(\"Friend's Card Collection:\", friends_card_collection)\n",
       "\n",
       "# 3. Add New Cards\n",
       "new_cards = [\"Thunder Bird\", \"Stone Titan\", \"Frost Mage\"]\n",
       "my_card_collection.update(new_cards)\n",
       "print(\"My Card Collection after adding new cards:\", my_card_collection)\n",
       "\n",
       "# 4. Try to Add a Duplicate Card\n",
       "my_card_collection.add(\"Dragon Warrior\") # Already in the set!\n",
       "print(\"My Card Collection after trying to add duplicate 'Dragon Warrior':\", my_card_collection)\n",
       "# Nothing changed because sets only store unique items! Adding a duplicate has no effect.\n",
       "\n",
       "# 5. Find Common Cards (Intersection)\n",
       "common_cards = my_card_collection.intersection(friends_card_collection)\n",
       "print(\"Common Cards (Intersection):\", common_cards)\n",
       "\n",
       "# 6. Combine All Unique Cards (Union)\n",
       "all_unique_cards = my_card_collection.union(friends_card_collection)\n",
       "print(\"All Unique Cards (Union):\", all_unique_cards)\n",
       "\n",
       "# 7. Find My Unique Cards (Difference)\n",
       "my_unique_cards = my_card_collection.difference(friends_card_collection)\n",
       "print(\"My Unique Cards (Difference):\", my_unique_cards)\n",
       "\n",
       "# 8. Check if My Collection is a Subset of a Complete Set\n",
       "complete_card_set = {\"Dragon Warrior\", \"Magic Archer\", \"Forest Guardian\", \"Shadow Assassin\", \"Iron Golem\", \"Thunder Bird\", \"Stone Titan\", \"Frost Mage\", \"Mystic Unicorn\", \"Phoenix Rider\", \"Ocean Siren\", \"Rare Griffin\", \"Legendary Kraken\"}\n",
       "is_subset = my_card_collection.issubset(complete_card_set)\n",
       "print(\"Is My Card Collection a subset of Complete Card Set?\", is_subset)\n",
       "\n",
       "# 9. (Bonus - Gotcha Exercise): Try to add a list to a set\n",
       "# my_card_collection.add([\"Extra Card 1\", \"Extra Card 2\"]) # Uncommenting this will cause an error!\n",
       "# Error: unhashable type: 'list'\n",
       "# Sets can only contain immutable items, and lists are mutable (they can be changed after creation).\n",
       "# Lists cannot be directly added to sets.\n",
       "\n",
       "# 10. (Bonus - When Not to Use Sets Thinking) - See markdown cell below for answer!\n"
      ]
     },
     {
      "cell_type": "markdown",
      "metadata": {},
      "source": [
       "**10. (Bonus - When Not to Use Sets Thinking) Answer:**\n",
       "\n",
       "No, a set would **not** be the best data structure if you want to keep track of *when* you got each card. This is because:\n",
       "\n",
       "*   **Sets are unordered:** Sets don't remember the order in which you added items, so you couldn't track the sequence of when you acquired cards.\n",
       "*   **Sets only store unique items:**  While card names might be unique in this example, sets are not designed to store *additional information* associated with each item, like the date you got it.\n",
       "\n",
       "**Better choices would be:**\n",
       "\n",
       "*   **Dictionary:** A dictionary would be a great choice! You could use the card name as the *key* and the date you got it as the *value*. For example: `{\"Card A\": \"Monday\", \"Card B\": \"Tuesday\", ...}`. Dictionaries are perfect for storing key-value pairs, and they allow you to associate extra information with each item.\n",
       "*   **List of Tuples (or Dictionaries):** You could also use a list of tuples, where each tuple is `(card_name, date_acquired)`. For example: `[(\"Card A\", \"Monday\"), (\"Card B\", \"Tuesday\"), ...]`. Or a list of dictionaries, like `[{\"card\": \"Card A\", \"date\": \"Monday\"}, {\"card\": \"Card B\", \"date\": \"Tuesday\"}, ...]`. Lists maintain order, so you could see the cards in the order you acquired them.\n",
       "\n",
       "So, if you need to track the acquisition date, dictionaries or lists would be more suitable than sets because they can handle order and/or associate extra information with each card."
      ]
     },
     {
      "cell_type": "markdown",
      "metadata": {},
      "source": [
       "# Congratulations! 🎉\n",
       "\n",
       "You've completed the Python Sets adventure! You're now a set master, ready to use sets to manage unique collections, compare data, and solve all sorts of coding challenges! Keep practicing and exploring, and you'll become an even more amazing Python programmer! Keep coding and keep having fun! 😊🚀"
      ]
     }
    ],
    "metadata": {
     "kernelspec": {
      "display_name": "Python 3",
      "language": "python",
      "name": "python3"
     },
     "language_info": {
      "codemirror_mode": {
       "name": "ipython",
       "version": 3
      },
      "file_extension": ".py",
      "mimetype": "text/x-python",
      "name": "python",
      "nbconvert_exporter": "python",
      "pygments_lexer": "ipython3",
      "version": "3.8.5"
     }
    },
    "nbformat": 4,
    "nbformat_minor": 4
   }