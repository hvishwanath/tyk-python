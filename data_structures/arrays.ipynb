{
    "cells": [
     {
      "cell_type": "markdown",
      "metadata": {},
      "source": [
       "# Python Arrays: Number Ninjas! 🧮 🚀\n",
       "\n",
       "Hey there, future Python Number Ninja! 👋\n",
       "\n",
       "You've already become super skilled with Python **lists**, **dictionaries**, **sets**, and **strings**! That's awesome! 🎉 Now, get ready to learn about something a little bit special for working with **numbers**: **Python Arrays**! \n",
       "\n",
       "Think of arrays as your secret weapon when you're dealing with lots and lots of numbers in your code. They are like super-organized number containers that can make your programs faster and more efficient, especially when you're doing calculations. Let's dive in and become Number Ninjas together! 🥷"
      ]
     },
     {
      "cell_type": "markdown",
      "metadata": {},
      "source": [
       "## 1. What is a Python `array`? 🤔 (The Special Number Box! 📦)"
      ]
     },
     {
      "cell_type": "markdown",
      "metadata": {},
      "source": [
       "You know how lists are like general containers? You can put anything in a list - numbers, words, even other lists!  They are super flexible, like a big backpack that can hold all sorts of things.\n",
       "\n",
       "```python\n",
       "# Example of a list holding different types",
       "my_list = [1, 'hello', 3.14, True]\n",
       "print(my_list)\n",
       "```"
      ]
     },
     {
      "cell_type": "code",
      "execution_count": null,
      "metadata": {},
      "outputs": [],
      "source": [
       "my_list = [1, 'hello', 3.14, True]\n",
       "print(my_list)"
      ]
     },
     {
      "cell_type": "markdown",
      "metadata": {},
      "source": [
       "But what if you know *for sure* that you're only going to be storing **numbers**?  That's where **arrays** come in! 🤩\n",
       "\n",
       "Imagine you have a **special box** that's designed *just* for numbers.  Or think of it like a **uniform number line**, where each spot is ready to hold a number of the same type. That's kind of like a Python `array`!\n",
       "\n",
       "**Arrays are like special containers that only hold items of the *same type*, and they are REALLY good with numbers!** They are more organized and can be faster for doing math stuff than regular lists when you're working with lots of numbers. 🚀\n",
       "\n",
       "**Why do we need arrays when we have lists?**\n",
       "\n",
       "Great question! It's all about being efficient. When you tell Python that you're creating an `array` and it's only going to hold, say, integers (whole numbers), Python can set things up in memory in a way that's super optimized for storing and working with integers. This can make your code run faster and use less memory, especially when you have tons of numbers to handle. 💪"
      ]
     },
     {
      "cell_type": "markdown",
      "metadata": {},
      "source": [
       "### Creating your first `array` 🛠️\n",
       "\n",
       "To use arrays in Python, we first need to bring in the `array` module. Think of it like getting the 'array toolbox' ready! We do this with an `import` statement:\n",
       "\n",
       "```python\n",
       "import array\n",
       "```\n",
       "\n",
       "Now we can create an array! We use `array.array()`.  It needs two things:\n",
       "\n",
       "1.  **A 'type code'**: This is like telling Python what *kind* of numbers you're going to put in the box (e.g., integers, decimal numbers).\n",
       "2.  **An 'initializer'**: This is like putting some initial numbers in the box right away. It's usually a list of numbers.\n",
       "\n",
       "Let's create an array of **integers** (whole numbers) to store game scores! We'll use the type code `'i'` for signed integers (meaning they can be positive or negative whole numbers).\n",
       "\n",
       "```python\n",
       "# Import the array module\n",
       "import array\n",
       "\n",
       "# Create an array named 'game_scores' to store integers ('i')\n",
       "game_scores = array.array('i', [100, 250, 180, 300])\n",
       "\n",
       "print(game_scores)\n",
       "```"
      ]
     },
     {
      "cell_type": "code",
      "execution_count": null,
      "metadata": {},
      "outputs": [],
      "source": [
       "# Import the array module\n",
       "import array\n",
       "\n",
       "# Create an array named 'game_scores' to store integers ('i')\n",
       "game_scores = array.array('i', [100, 250, 180, 300])\n",
       "\n",
       "print(game_scores)"
      ]
     },
     {
      "cell_type": "markdown",
      "metadata": {},
      "source": [
       "See? We created an array! It looks a bit like a list when you print it.  But it's special!\n",
       "\n",
       "Let's make another one, this time for character heights in a game. Heights are usually decimal numbers, so we'll use the type code `'f'` for **floating-point numbers** (decimal numbers).\n",
       "\n",
       "```python\n",
       "# Create an array for character heights (floats 'f')\n",
       "character_heights = array.array('f', [1.75, 1.68, 1.82, 1.55])\n",
       "\n",
       "print(character_heights)\n",
       "```"
      ]
     },
     {
      "cell_type": "code",
      "execution_count": null,
      "metadata": {},
      "outputs": [],
      "source": [
       "# Create an array for character heights (floats 'f')\n",
       "character_heights = array.array('f', [1.75, 1.68, 1.82, 1.55])\n",
       "\n",
       "print(character_heights)"
      ]
     },
     {
      "cell_type": "markdown",
      "metadata": {},
      "source": [
       "Awesome! You've created your first arrays! 🎉 Now, let's learn more about those **type codes**."
      ]
     },
     {
      "cell_type": "markdown",
      "metadata": {},
      "source": [
       "## 2. Type Codes - Choosing the Right Number Container 🔢 (Different Boxes for Different Numbers 📦📦📦)"
      ]
     },
     {
      "cell_type": "markdown",
      "metadata": {},
      "source": [
       "Remember we used `'i'` for integers and `'f'` for floats? These are **type codes**! They are super important for arrays because they tell Python exactly what kind of numbers you'll be storing in your array.\n",
       "\n",
       "Think of it like having different boxes for different types of numbers:\n",
       "\n",
       "*   A **small box** for small whole numbers.\n",
       "*   A **bigger box** for larger whole numbers.\n",
       "*   A **special box** for decimal numbers.\n",
       "\n",
       "Type codes are like labels on these boxes! They tell Python how much space in the computer's memory to set aside for each number in your array. This is a big part of why arrays can be more efficient.\n",
       "\n",
       "Here are some common type codes you might use:\n",
       "\n",
       "*   **`'b'`**: Signed byte (very small integers, from -128 to 127)\n",
       "*   **`'B'`**: Unsigned byte (small positive integers and zero, from 0 to 255)\n",
       "*   **`'h'`**: Signed short integer (smaller integers)\n",
       "*   **`'H'`**: Unsigned short integer (smaller positive integers and zero)\n",
       "*   **`'i'`**: Signed integer (standard integers, like we used for scores)\n",
       "*   **`'I'`**: Unsigned integer (standard positive integers and zero)\n",
       "*   **`'l'`**: Signed long integer (larger integers)\n",
       "*   **`'L'`**: Unsigned long integer (larger positive integers and zero)\n",
       "*   **`'f'`**: Float (decimal numbers, like we used for heights)\n",
       "*   **`'d'`**: Double-precision float (even more precise decimal numbers, for super accurate calculations!)\n",
       "\n",
       "**Let's see some examples!**\n",
       "\n",
       "```python\n",
       "import array\n",
       "\n",
       "# Array of small signed integers ('b')\n",
       "small_numbers = array.array('b', [-5, 10, -2, 50])\n",
       "print(\"Small numbers (signed byte):\", small_numbers)\n",
       "\n",
       "# Array of small unsigned integers ('B') - only positive and zero!\n",
       "positive_numbers = array.array('B', [0, 100, 200, 255])\n",
       "print(\"Positive numbers (unsigned byte):\", positive_numbers)\n",
       "\n",
       "# Array of floats ('f') again\n",
       "prices = array.array('f', [9.99, 19.50, 5.75])\n",
       "print(\"Prices (floats):\", prices)\n",
       "```"
      ]
     },
     {
      "cell_type": "code",
      "execution_count": null,
      "metadata": {},
      "outputs": [],
      "source": [
       "import array\n",
       "\n",
       "# Array of small signed integers ('b')\n",
       "small_numbers = array.array('b', [-5, 10, -2, 50])\n",
       "print(\"Small numbers (signed byte):\", small_numbers)\n",
       "\n",
       "# Array of small unsigned integers ('B') - only positive and zero!\n",
       "positive_numbers = array.array('B', [0, 100, 200, 255])\n",
       "print(\"Positive numbers (unsigned byte):\", positive_numbers)\n",
       "\n",
       "# Array of floats ('f') again\n",
       "prices = array.array('f', [9.99, 19.50, 5.75])\n",
       "print(\"Prices (floats):\", prices)"
      ]
     },
     {
      "cell_type": "markdown",
      "metadata": {},
      "source": [
       "Cool, right? You can choose the perfect 'number box' (type code) for your numbers! 📦✨"
      ]
     },
     {
      "cell_type": "markdown",
      "metadata": {},
      "source": [
       "## 3. Accessing and Modifying `array` Items 🧲 (Getting Numbers from the Box and Changing Them!)"
      ]
     },
     {
      "cell_type": "markdown",
      "metadata": {},
      "source": [
       "Once you have numbers in your array, you'll want to get them out and maybe change them!  Good news: **accessing and modifying array items is super similar to how you do it with lists and strings!** 🎉\n",
       "\n",
       "We use **indexing**! Remember how indexing works?  The first item is at index 0, the second at index 1, and so on.\n",
       "\n",
       "**Let's work with our `game_scores` array again:**\n",
       "\n",
       "```python\n",
       "import array\n",
       "game_scores = array.array('i', [100, 250, 180, 300])\n",
       "\n",
       "# Accessing the first score (at index 0)\n",
       "first_score = game_scores[0]\n",
       "print(\"First score:\", first_score)\n",
       "\n",
       "# Accessing the third score (at index 2)\n",
       "third_score = game_scores[2]\n",
       "print(\"Third score:\", third_score)\n",
       "```"
      ]
     },
     {
      "cell_type": "code",
      "execution_count": null,
      "metadata": {},
      "outputs": [],
      "source": [
       "import array\n",
       "game_scores = array.array('i', [100, 250, 180, 300])\n",
       "\n",
       "# Accessing the first score (at index 0)\n",
       "first_score = game_scores[0]\n",
       "print(\"First score:\", first_score)\n",
       "\n",
       "# Accessing the third score (at index 2)\n",
       "third_score = game_scores[2]\n",
       "print(\"Third score:\", third_score)"
      ]
     },
     {
      "cell_type": "markdown",
      "metadata": {},
      "source": [
       "Easy peasy! Just like lists! 😉\n",
       "\n",
       "**Now, let's change a score!** Let's say the player improved their third score (which is currently 180) to 220.\n",
       "\n",
       "```python\n",
       "# Change the third score (at index 2) to 220\n",
       "game_scores[2] = 220\n",
       "print(\"Updated game scores:\", game_scores)\n",
       "```"
      ]
     },
     {
      "cell_type": "code",
      "execution_count": null,
      "metadata": {},
      "outputs": [],
      "source": [
       "# Change the third score (at index 2) to 220\n",
       "game_scores[2] = 220\n",
       "print(\"Updated game scores:\", game_scores)"
      ]
     },
     {
      "cell_type": "markdown",
      "metadata": {},
      "source": [
       "Awesome! You're a pro at accessing and modifying array items already! 🚀"
      ]
     },
     {
      "cell_type": "markdown",
      "metadata": {},
      "source": [
       "## 4. `array` Operations - Similar to Lists, but Number-Focused! ➕➖✖️➗ (Actions with Your Number Box!)"
      ]
     },
     {
      "cell_type": "markdown",
      "metadata": {},
      "source": [
       "Just like lists, arrays can do lots of cool things! Many of the operations you know from lists work with arrays too, especially when you're working with numbers. Let's explore some common ones:\n",
       "\n",
       "*   **`append()`**:  Adding a number to the end of the array (like adding a number to the end of your number line).\n",
       "*   **`extend()`**: Adding multiple numbers from another array or something list-like to the end (like extending your number line with another number line!).\n",
       "*   **`insert()`**: Inserting a number at a specific position (like putting a number in the middle of your number line).\n",
       "*   **`remove()`**: Removing the first occurrence of a number from the array.\n",
       "*   **`pop()`**: Removing a number at a specific position (and you can even get the removed number back!).\n",
       "*   **Iteration**: Going through each number in the array, one by one (like checking each number in your number box).\n",
       "\n",
       "**Let's see these in action with our `game_scores` array!**\n",
       "\n",
       "```python\n",
       "import array\n",
       "game_scores = array.array('i', [100, 250, 180, 300])\n",
       "print(\"Original scores:\", game_scores)\n",
       "\n",
       "# Append a new score\n",
       "game_scores.append(350)\n",
       "print(\"Scores after appending 350:\", game_scores)\n",
       "\n",
       "# Extend with more scores from a list\n",
       "more_scores = [280, 400]\n",
       "game_scores.extend(more_scores)\n",
       "print(\"Scores after extending with [280, 400]:\", game_scores)\n",
       "\n",
       "# Insert a score at the beginning (index 0)\n",
       "game_scores.insert(0, 90)\n",
       "print(\"Scores after inserting 90 at the beginning:\", game_scores)\n",
       "\n",
       "# Remove the score 180 (removes the first occurrence)\n",
       "game_scores.remove(180)\n",
       "print(\"Scores after removing 180:\", game_scores)\n",
       "\n",
       "# Pop the score at index 2 (and get it back!)\n",
       "removed_score = game_scores.pop(2)\n",
       "print(\"Scores after popping index 2:\", game_scores)\n",
       "print(\"Score that was removed (popped):\", removed_score)\n",
       "\n",
       "# Iterate through all scores and print them\n",
       "print(\"All scores using a loop:\")\n",
       "for score in game_scores:\n",
       "    print(score)\n",
       "```"
      ]
     },
     {
      "cell_type": "code",
      "execution_count": null,
      "metadata": {},
      "outputs": [],
      "source": [
       "import array\n",
       "game_scores = array.array('i', [100, 250, 180, 300])\n",
       "print(\"Original scores:\", game_scores)\n",
       "\n",
       "# Append a new score\n",
       "game_scores.append(350)\n",
       "print(\"Scores after appending 350:\", game_scores)\n",
       "\n",
       "# Extend with more scores from a list\n",
       "more_scores = [280, 400]\n",
       "game_scores.extend(more_scores)\n",
       "print(\"Scores after extending with [280, 400]:\", game_scores)\n",
       "\n",
       "# Insert a score at the beginning (index 0)\n",
       "game_scores.insert(0, 90)\n",
       "print(\"Scores after inserting 90 at the beginning:\", game_scores)\n",
       "\n",
       "# Remove the score 180 (removes the first occurrence)\n",
       "game_scores.remove(180)\n",
       "print(\"Scores after removing 180:\", game_scores)\n",
       "\n",
       "# Pop the score at index 2 (and get it back!)\n",
       "removed_score = game_scores.pop(2)\n",
       "print(\"Scores after popping index 2:\", game_scores)\n",
       "print(\"Score that was removed (popped):\", removed_score)\n",
       "\n",
       "# Iterate through all scores and print them\n",
       "print(\"All scores using a loop:\")\n",
       "for score in game_scores:\n",
       "    print(score)"
      ]
     },
     {
      "cell_type": "markdown",
      "metadata": {},
      "source": [
       "See? Many of the list operations you already know work for arrays too!  You're becoming a real array master! 🧙‍♂️"
      ]
     },
     {
      "cell_type": "markdown",
      "metadata": {},
      "source": [
       "## 5. `array` vs. Lists - When to Choose Which? 🤔 (Special Number Box vs. General Storage Box 📦 vs. 🎒)"
      ]
     },
     {
      "cell_type": "markdown",
      "metadata": {},
      "source": [
       "Okay, so we have lists and we have arrays. They seem kind of similar. When should you use an `array` instead of a list? It's like choosing the right tool for the job! 🧰\n",
       "\n",
       "Imagine you have two boxes:\n",
       "\n",
       "*   A **special number box** (array): Designed *only* for numbers, super organized for numbers, and can be faster for number stuff.\n",
       "*   A **general storage box** (list): Can hold anything - numbers, toys, books, you name it! Very flexible.\n",
       "\n",
       "Here's a breakdown:\n",
       "\n",
       "**`array` (Special Number Box):**\n",
       "*   **Data Type:**  **Homogeneous** -  Holds items of the **same data type** (mostly numbers).  You decide the type when you create it (like 'i' for integers, 'f' for floats). Think: Uniform number line!\n",
       "*   **Memory Efficiency:** More **memory-efficient** for storing large sequences of numbers. Uses less space in your computer's memory.\n",
       "*   **Speed:** Can be **faster** for certain numerical operations, especially with very large arrays. 🚀\n",
       "*   **Flexibility:** Less flexible for storing mixed types of data. You can't easily put numbers and words in the same array.\n",
       "\n",
       "**Lists (General Storage Box):**\n",
       "*   **Data Type:** **Heterogeneous** - Can hold items of **different data types** all in the same list! Numbers, strings, lists, anything! Super flexible!\n",
       "*   **Memory Efficiency:** Might be slightly **less memory-efficient** for storing just numbers compared to arrays, especially for very large collections.\n",
       "*   **Speed:** Might be a bit **slower** for certain numerical operations on very large collections of numbers compared to arrays.\n",
       "*   **Flexibility:** Very flexible! Great for general-purpose storage when you need to mix different types of data.\n",
       "\n",
       "**When to use `array`:**\n",
       "*   When you are **primarily working with numerical data**.  Like game scores, sensor readings, scientific data, etc.\n",
       "*   When you need **memory efficiency** for large numerical datasets. If you have tons and tons of numbers, arrays can save space.\n",
       "*   When you might want potential **performance benefits** for numerical operations, especially with large datasets. If speed is super important for your number crunching.\n",
       "\n",
       "**When to use Lists:**\n",
       "*   For **general-purpose collections** of items, especially when you need to store **mixed data types** (numbers, strings, etc.).\n",
       "*   When **flexibility** is more important than maximum numerical efficiency. For most everyday tasks, lists are perfectly fast and flexible enough!\n",
       "*   For **smaller collections** of numbers where the memory and speed difference might not be a big deal.\n",
       "\n",
       "**Think of it this way:** If you're building a game and need to store thousands of enemy health points (all numbers), an array might be a great choice! But if you're making a to-do list with tasks (strings) and priorities (maybe numbers or categories), a list is probably the way to go! 👍"
      ]
     },
     {
      "cell_type": "markdown",
      "metadata": {},
      "source": [
       "## 6. Common Gotchas with `array` ⚠️ (Things to Watch Out For with Your Special Number Box!)"
      ]
     },
     {
      "cell_type": "markdown",
      "metadata": {},
      "source": [
       "Arrays are awesome for numbers, but there are a few things to be careful about, like \"gotchas\"!  Think of them as little things to watch out for when using your special number box.\n",
       "\n",
       "*   **Type Codes are SUPER Important!** You **must** choose the correct type code when you create an array. And you can **only** store items of that type in the array! If you try to put a different type of item in, Python will give you an error! 💥\n",
       "    *   **Analogy:**  Imagine trying to put a letter in a box that's labeled \"Numbers Only\"! It just won't fit, or it'll cause problems!\n",
       "\n",
       "    **Example of a Gotcha:**\n",
       "    ```python\n",
       "    import array\n",
       "    number_array = array.array('i', [1, 2, 3]) # Array of integers\n",
       "\n",
       "    try:\n",
       "        number_array.append('hello') # Trying to append a string! Uh oh!\n",
       "    except TypeError as e:\n",
       "        print(\"Oops! Error when trying to add a string to an integer array:\")\n",
       "        print(e)\n",
       "    ```\n",
       "\n",
       "*   **Less Flexible than Lists for Mixed Data:** Arrays are **not** designed for storing different data types together in the same array.  If you need that, use lists! 🎒\n",
       "    *   **Analogy:** Remember, the number box is for numbers only! If you need to store toys and books too, you need a different kind of box (like a list!).\n",
       "\n",
       "*   **`array` is from a module:**  Don't forget to `import array` at the beginning of your code if you want to use arrays! They are not built-in like lists are. 📦\n",
       "    *   **Analogy:** You need to get the special number box from the \"Array Tools\" shelf before you can use it! You need to `import array` to get access to the array tools.\n",
       "\n",
       "Keep these gotchas in mind, and you'll be using arrays like a pro! 😉"
      ]
     },
     {
      "cell_type": "code",
      "execution_count": null,
      "metadata": {},
      "outputs": [],
      "source": [
       "import array\n",
       "number_array = array.array('i', [1, 2, 3]) # Array of integers\n",
       "\n",
       "try:\n",
       "    number_array.append('hello') # Trying to append a string! Uh oh!\n",
       "except TypeError as e:\n",
       "    print(\"Oops! Error when trying to add a string to an integer array:\")\n",
       "    print(e)"
      ]
     },
     {
      "cell_type": "markdown",
      "metadata": {},
      "source": [
       "## 7. Pros and Cons of Using `array` 👍👎 (Is a Special Number Box Always Helpful?)"
      ]
     },
     {
      "cell_type": "markdown",
      "metadata": {},
      "source": [
       "Let's quickly recap the good and not-so-good things about using arrays.  It's all about knowing when a special number box is *really* helpful and when maybe a regular box or something else might be better.\n",
       "\n",
       "**Pros (Good Things) 👍:**\n",
       "*   **Memory Efficiency (for numbers):** Arrays use less memory to store large collections of numbers compared to lists. This is great when you have lots and lots of numbers!\n",
       "*   **Potentially Faster Numerical Operations:** For some math calculations, especially with large arrays, arrays can be faster than lists. Speed boost! 🚀\n",
       "*   **Type Safety (to some extent):** Type codes help make sure you're storing the kind of numbers you intended. This can catch errors early on.\n",
       "\n",
       "**Cons (Not-So-Good Things) 👎:**\n",
       "*   **Homogeneous Data Type Limitation:** You can only store items of the same data type in one array.  No mixing numbers and strings in the same array!\n",
       "*   **Less Flexible than Lists:** Arrays are not as versatile as lists for general-purpose data storage. Lists can hold anything and everything!\n",
       "*   **Requires Importing `array` module:** You need to remember to `import array` before you can use them. Lists are built-in, no import needed.\n",
       "\n",
       "**So, arrays are like specialized tools. They are fantastic for specific number-heavy tasks, but lists are still the go-to for general-purpose data handling!** 🛠️"
      ]
     },
     {
      "cell_type": "markdown",
      "metadata": {},
      "source": [
       "## 8. When NOT to Use `array` 🙅‍♀️🙅‍♂️ (When the Special Number Box Isn't the Best Tool)"
      ]
     },
     {
      "cell_type": "markdown",
      "metadata": {},
      "source": [
       "Just like a hammer is great for nails but not for screws, arrays are awesome for numbers but not always the best choice for everything. Let's see when you might want to choose something *other* than an `array`.\n",
       "\n",
       "*   **For Heterogeneous Data (Use Lists!):** If you need to store a collection of items that are of different types (like names, scores, and descriptions all together), **use a list!** Arrays are not for mixed data types. 🎒\n",
       "\n",
       "    **Example:** Let's say you want to store player info with name (string) and score (integer):\n",
       "    ```python\n",
       "    # List is perfect for this!\n",
       "    player_info = [\n",
       "        ['Alice', 250],\n",
       "        ['Bob', 300],\n",
       "        ['Charlie', 280]\n",
       "    ]\n",
       "    print(player_info)\n",
       "    ```\n",
       "    You can't easily do this with a single array because arrays need all items to be the same type.\n",
       "\n",
       "*   **For Small Collections where Efficiency is Not Critical (Use Lists!):** If you're only working with a small number of items, the memory and speed benefits of arrays might be so tiny that it's not worth it. Lists are often simpler and more than fast enough for small tasks. Just use a list! 👍\n",
       "\n",
       "*   **For Non-Numerical Data (Use Lists, Strings, etc.):** Arrays are primarily for numerical data. If you're working with text, general objects, or key-value pairs, stick with lists, strings, dictionaries, sets, or other data structures that are designed for those types of data.  Arrays are number ninjas, not word wizards! 🧙‍♂️\n",
       "\n",
       "**In short: Use arrays when you have lots of numbers and want efficiency. Use lists for pretty much everything else, especially when you need flexibility or mixed data types!** 😉"
      ]
     },
     {
      "cell_type": "code",
      "execution_count": null,
      "metadata": {},
      "outputs": [],
      "source": [
       "# List is perfect for storing mixed data like player name (string) and score (integer)\n",
       "player_info = [\n",
       "    ['Alice', 250],\n",
       "    ['Bob', 300],\n",
       "    ['Charlie', 280]\n",
       "]\n",
       "print(player_info)"
      ]
     },
     {
      "cell_type": "markdown",
      "metadata": {},
      "source": [
       "## Number Ninja Challenges! 🥷 🚀"
      ]
     },
     {
      "cell_type": "markdown",
      "metadata": {},
      "source": [
       "Okay, Number Ninja, it's time to put your array skills to the test! Imagine you're working on a cool game that involves storing lots of numerical data. Let's do some exercises!\n",
       "\n",
       "**Instructions:** For each task below, write Python code in the code cell provided.\n"
      ]
     },
     {
      "cell_type": "markdown",
      "metadata": {},
      "source": [
       "**Challenge 1: Create a Score Array**\n",
       "\n",
       "1.  Create an `array` named `player_scores` to store player scores. You know scores are always whole numbers (integers). Choose the appropriate type code for standard integers.\n",
       "2.  Initialize the array with some starting scores: `[0, 50, 120, 80]`."
      ]
     },
     {
      "cell_type": "code",
      "execution_count": null,
      "metadata": {},
      "outputs": [],
      "source": [
       "# Challenge 1: Create a Score Array\n",
       "# Write your code here:\n",
       "\n\n\n\n"
      ]
     },
     {
      "cell_type": "markdown",
      "metadata": {},
      "source": [
       "**Challenge 2: Add More Scores**\n",
       "\n",
       "1.  A new player joined the game and got a score of `150`. Append this score to the `player_scores` array.\n",
       "2.  Another game finished, and players got these scores: `[200, 90, 310]`. Extend the `player_scores` array with these new scores."
      ]
     },
     {
      "cell_type": "code",
      "execution_count": null,
      "metadata": {},
      "outputs": [],
      "source": [
       "# Challenge 2: Add More Scores\n",
       "# Write your code here:\n",
       "\n\n\n\n"
      ]
     },
     {
      "cell_type": "markdown",
      "metadata": {},
      "source": [
       "**Challenge 3: Update a Score**\n",
       "\n",
       "1.  The player who had the score `80` (which is at index 3 in the initial array) actually did better and their score should be `185` now. Update the score at index 3 in the `player_scores` array to `185`."
      ]
     },
     {
      "cell_type": "code",
      "execution_count": null,
      "metadata": {},
      "outputs": [],
      "source": [
       "# Challenge 3: Update a Score\n",
       "# Write your code here:\n",
       "\n\n\n\n"
      ]
     },
     {
      "cell_type": "markdown",
      "metadata": {},
      "source": [
       "**Challenge 4: Calculate Average and Highest Score**\n",
       "\n",
       "1.  Calculate the **average** score from the `player_scores` array.  (Hint: You can use `sum()` and `len()` functions, just like with lists!).\n",
       "2.  Find the **highest** score in the `player_scores` array. (Hint: You can use the `max()` function, just like with lists!).\n",
       "3.  Print both the average and highest score."
      ]
     },
     {
      "cell_type": "code",
      "execution_count": null,
      "metadata": {},
      "outputs": [],
      "source": [
       "# Challenge 4: Calculate Average and Highest Score\n",
       "# Write your code here:\n",
       "\n\n\n\n"
      ]
     },
     {
      "cell_type": "markdown",
      "metadata": {},
      "source": [
       "**Challenge 5: Memory Efficiency (Conceptual)**\n",
       "\n",
       "1.  Imagine you had to store **millions** of player scores. Would it be more memory-efficient to use an `array` or a `list` for storing just integers? (Think back to our `array` vs. `list` discussion).\n",
       "2.  **Explain in a sentence or two why.** (No code needed for this challenge, just think and write your answer as a comment in the code cell below)."
      ]
     },
     {
      "cell_type": "code",
      "execution_count": null,
      "metadata": {},
      "outputs": [],
      "source": [
       "# Challenge 5: Memory Efficiency (Conceptual)\n",
       "# Write your answer as comments here:\n",
       "# \n",
       "# \n"
      ]
     },
     {
      "cell_type": "markdown",
      "metadata": {},
      "source": [
       "**Challenge 6: Gotcha - Trying to Add a Wrong Type**\n",
       "\n",
       "1.  Try to append the string value `'new_player'` to your `player_scores` array (which is designed to hold integers).\n",
       "2.  Run the code. What happens? Do you get an error? What type of error is it?\n",
       "3.  In a comment, explain why you got this error. (Think about type codes!)."
      ]
     },
     {
      "cell_type": "code",
      "execution_count": null,
      "metadata": {},
      "outputs": [],
      "source": [
       "# Challenge 6: Gotcha - Trying to Add a Wrong Type\n",
       "# Write your code here:\n",
       "\n\n\n\n"
      ]
     },
     {
      "cell_type": "markdown",
      "metadata": {},
      "source": [
       "**Bonus Challenge 7: Gotcha - Type Code Importance**\n",
       "\n",
       "1.  Create a *new* array named `small_numbers_array` using the type code `'b'` (signed byte - for very small integers).\n",
       "2.  Initialize it with `[10, 20, 30]`.\n",
       "3.  Try to append the number `200` to this `small_numbers_array`.\n",
       "4.  Run the code. What happens? Do you get an error? What type of error? (It might be a different error than before!)\n",
       "5.  In a comment, explain why you got this error. (Think about the range of values that `'b'` can store!)."
      ]
     },
     {
      "cell_type": "code",
      "execution_count": null,
      "metadata": {},
      "outputs": [],
      "source": [
       "# Bonus Challenge 7: Gotcha - Type Code Importance\n",
       "# Write your code here:\n",
       "\n\n\n\n"
      ]
     },
     {
      "cell_type": "markdown",
      "metadata": {},
      "source": [
       "**Bonus Challenge 8: When Not to Use Arrays Thinking**\n",
       "\n",
       "1.  Imagine you need to store a list of player names and their scores *together*. For example, you want to keep track of who got which score. Would an `array` be the best choice for this? Why or why not?\n",
       "2.  What data structure would be more suitable for storing player names (strings) and scores (numbers) together in a meaningful way? (Think back to other data structures you've learned!)\n",
       "3.  Write your answers as comments in the code cell below."
      ]
     },
     {
      "cell_type": "code",
      "execution_count": null,
      "metadata": {},
      "outputs": [],
      "source": [
       "# Bonus Challenge 8: When Not to Use Arrays Thinking\n",
       "# Write your answers as comments here:\n",
       "# \n",
       "# \n",
       "# \n"
      ]
     },
     {
      "cell_type": "markdown",
      "metadata": {},
      "source": [
       "## Congratulations, Number Ninja! 🥳\n",
       "\n",
       "You've completed the Number Ninja training on Python arrays! You now know what arrays are, how to create them, work with them, and when to use them (and when not to!). You're ready to wield the power of arrays in your Python adventures! 🚀\n",
       "\n",
       "Keep practicing and experimenting with arrays. The more you use them, the better you'll become at choosing the right data structure for your coding tasks! Keep being awesome! ✨"
      ]
     }
    ],
    "metadata": {
     "kernelspec": {
      "display_name": "Python 3",
      "language": "python",
      "name": "python3"
     },
     "language_info": {
      "codemirror_mode": {
       "name": "ipython",
       "version": 3
      },
      "file_extension": ".py",
      "mimetype": "text/x-python",
      "name": "python",
      "nbconvert_exporter": "python",
      "pygments_lexer": "ipython3",
      "version": "3.8.5"
     }
    },
    "nbformat": 4,
    "nbformat_minor": 4
   }